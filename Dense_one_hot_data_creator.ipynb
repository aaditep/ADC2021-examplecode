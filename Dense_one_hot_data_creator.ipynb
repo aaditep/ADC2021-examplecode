{
 "cells": [
  {
   "cell_type": "code",
   "execution_count": 170,
   "id": "87dc1d30",
   "metadata": {},
   "outputs": [],
   "source": [
    "import numpy as np\n",
    "import h5py\n",
    "import math\n",
    "import os\n",
    "import pathlib\n",
    "import matplotlib.pyplot as plt\n",
    "import matplotlib\n",
    "%matplotlib inline\n",
    "import tensorflow as tf\n",
    "import tensorflow.keras as keras\n",
    "from tensorflow.keras.models import Model\n",
    "from tensorflow.keras.layers import Input, Dense, BatchNormalization, Activation, Layer, ReLU, LeakyReLU\n",
    "from tensorflow.keras import backend as K"
   ]
  },
  {
   "cell_type": "code",
   "execution_count": 171,
   "id": "a9734bcb",
   "metadata": {},
   "outputs": [],
   "source": [
    "from func import load_model, save_model"
   ]
  },
  {
   "cell_type": "markdown",
   "id": "9b7c1b69",
   "metadata": {},
   "source": [
    "Restructuring data with type classification using one_hot interpretation. Loading data:"
   ]
  },
  {
   "cell_type": "code",
   "execution_count": 6,
   "id": "2a179d27",
   "metadata": {},
   "outputs": [],
   "source": [
    "filename = './signals/BKG_4e6_dataset.h5'\n",
    "# make sure input data has correct input shape - background training data\n",
    "with h5py.File(filename, 'r') as file:\n",
    "    X_train = np.array(file['X_train'])\n",
    "    X_test = np.array(file['X_test'])\n",
    "    X_val = np.array(file['X_val'])"
   ]
  },
  {
   "cell_type": "markdown",
   "id": "e924227c",
   "metadata": {},
   "source": [
    "Define Dense NN architecture"
   ]
  },
  {
   "cell_type": "code",
   "execution_count": 172,
   "id": "47772fae",
   "metadata": {},
   "outputs": [
    {
     "name": "stdout",
     "output_type": "stream",
     "text": [
      "[[1. 0. 0. 0. 0.]\n",
      " [0. 1. 0. 0. 0.]\n",
      " [0. 0. 1. 0. 0.]\n",
      " [0. 0. 0. 1. 0.]\n",
      " [0. 0. 0. 0. 1.]]\n"
     ]
    }
   ],
   "source": [
    "import numpy as np\n",
    "from tensorflow.keras.utils import to_categorical\n",
    "### Categorical data to be converted to numeric data\n",
    "colors = [\"None\", \"MET\", \"electron\", \"muon\", \"jet\"]\n",
    "\n",
    "### Universal list of colors\n",
    "total_colors = [\"None\", \"MET\", \"electron\", \"muon\", \"jet\"]\n",
    "\n",
    "### map each color to an integer\n",
    "mapping = {}\n",
    "for x in range(len(total_colors)):\n",
    "  mapping[total_colors[x]] = x\n",
    "\n",
    "# integer representation\n",
    "for x in range(len(colors)):\n",
    "  colors[x] = mapping[colors[x]]\n",
    "\n",
    "one_hot_encode = to_categorical(colors)\n",
    "print(one_hot_encode)"
   ]
  },
  {
   "cell_type": "markdown",
   "id": "77bd21e6",
   "metadata": {},
   "source": [
    "Restructure data where object types as one_hot vector. Shape from [19,4] to [19,8] \n"
   ]
  },
  {
   "cell_type": "code",
   "execution_count": 173,
   "id": "8070c3c4",
   "metadata": {},
   "outputs": [
    {
     "name": "stdout",
     "output_type": "stream",
     "text": [
      "[ 8.32390594  0.         -2.22259021  0.          0.          0.\n",
      "  0.          0.          0.          0.          0.          0.\n",
      "  0.          0.          0.         28.90819359  0.98503017  0.7940141\n",
      "  0.          0.          0.          0.          0.          0.\n",
      "  0.          0.          0.          0.          0.          0.\n",
      "  0.          0.          0.          0.          0.          0.\n",
      "  0.          0.          0.          0.          0.          0.\n",
      "  0.          0.          0.          0.          0.          0.\n",
      "  0.          0.          0.          0.          0.          0.\n",
      "  0.          0.          0.        ]\n"
     ]
    }
   ],
   "source": [
    "print(X_test[0])#orginal"
   ]
  },
  {
   "cell_type": "code",
   "execution_count": 174,
   "id": "cb825f9d",
   "metadata": {},
   "outputs": [],
   "source": [
    "bkg_file= '/home/aadi/praktika/ADC/files/background_for_training.h5'"
   ]
  },
  {
   "cell_type": "code",
   "execution_count": 175,
   "id": "ea143893",
   "metadata": {},
   "outputs": [],
   "source": [
    "events=100# mitme eventi peal treenida\n"
   ]
  },
  {
   "cell_type": "code",
   "execution_count": 176,
   "id": "897d304d",
   "metadata": {},
   "outputs": [],
   "source": [
    "# read BACKGROUND data\n",
    "with h5py.File(bkg_file, 'r') as file:\n",
    "    full_data = file['Particles'][:,:,:]\n",
    "    np.random.shuffle(full_data)\n",
    "    if events: full_data = full_data[:events,:,:]"
   ]
  },
  {
   "cell_type": "code",
   "execution_count": 177,
   "id": "b3201622",
   "metadata": {},
   "outputs": [],
   "source": [
    "event_obj_type=full_data[:,:,3]#Object types from all events\n",
    "events_phis=full_data[:,:,2]#extract phis\n",
    "event_obj_oh=to_categorical(event_obj_type,5)#All the object types turned to one hot\n",
    "event_wo_type_phi=full_data[:,:,:2]#original events without type and phi\n",
    "cos_sin=np.stack((np.cos(events_phis),np.sin(events_phis)),axis=2)#stack cos and sine oh phi\n",
    "event_w_trig=np.concatenate((event_wo_type_phi[:],cos_sin[:]),axis=2)#add trig\n",
    "full_data=np.concatenate((event_w_trig[:],event_obj_oh[:]),axis=2)#orig"
   ]
  },
  {
   "cell_type": "code",
   "execution_count": 179,
   "id": "3860c2fc",
   "metadata": {},
   "outputs": [
    {
     "data": {
      "text/plain": [
       "(19, 9)"
      ]
     },
     "execution_count": 179,
     "metadata": {},
     "output_type": "execute_result"
    }
   ],
   "source": [
    "full_data[0].shape"
   ]
  },
  {
   "cell_type": "code",
   "execution_count": 184,
   "id": "e49cfaa9",
   "metadata": {},
   "outputs": [],
   "source": [
    "test_size=0.2\n",
    "val_size=0.2\n",
    "input_shape=152"
   ]
  },
  {
   "cell_type": "code",
   "execution_count": 185,
   "id": "62026c54",
   "metadata": {},
   "outputs": [],
   "source": [
    "X_train, X_test = train_test_split(full_data, test_size=test_size, shuffle=True)\n",
    "X_train, X_val = train_test_split(X_train, test_size=val_size)"
   ]
  },
  {
   "cell_type": "code",
   "execution_count": 187,
   "id": "38190500",
   "metadata": {},
   "outputs": [
    {
     "data": {
      "text/plain": [
       "(19, 9)"
      ]
     },
     "execution_count": 187,
     "metadata": {},
     "output_type": "execute_result"
    }
   ],
   "source": [
    "X_train[0].shape"
   ]
  },
  {
   "cell_type": "code",
   "execution_count": 180,
   "id": "0ffef156",
   "metadata": {},
   "outputs": [],
   "source": [
    "event_obj_type=full_data[:,:,3]#Object types from all events\n",
    "event_obj_oh=to_categorical(event_obj_type,5)#All the object types turned to one hot\n",
    "event_wo_type=full_data[:,:,:3]#original events without type\n",
    "full_data2=np.concatenate((event_wo_type[:],event_obj_oh[:]),axis=2)#original data combined with one hot vectors"
   ]
  },
  {
   "cell_type": "code",
   "execution_count": 182,
   "id": "16dcfb57",
   "metadata": {},
   "outputs": [
    {
     "data": {
      "text/plain": [
       "(19, 8)"
      ]
     },
     "execution_count": 182,
     "metadata": {},
     "output_type": "execute_result"
    }
   ],
   "source": [
    "full_data2[0].shape"
   ]
  },
  {
   "cell_type": "code",
   "execution_count": 17,
   "id": "86df65c3",
   "metadata": {},
   "outputs": [],
   "source": [
    "event_obj_type=testing[:,3]#type of elements extracted"
   ]
  },
  {
   "cell_type": "code",
   "execution_count": 36,
   "id": "24169055",
   "metadata": {},
   "outputs": [
    {
     "data": {
      "text/plain": [
       "100"
      ]
     },
     "execution_count": 36,
     "metadata": {},
     "output_type": "execute_result"
    }
   ],
   "source": [
    "len(full_data)"
   ]
  },
  {
   "cell_type": "code",
   "execution_count": null,
   "id": "f0006a62",
   "metadata": {},
   "outputs": [],
   "source": [
    "import numpy as np\n",
    "from tensorflow.keras.utils import to_categorical\n",
    "### Categorical data to be converted to numeric data\n",
    "colors = [\"None\", \"MET\", \"electron\", \"muon\", \"jet\"]\n",
    "\n",
    "### Universal list of colors\n",
    "total_colors = [\"None\", \"MET\", \"electron\", \"muon\", \"jet\"]\n",
    "\n",
    "### map each color to an integer\n",
    "mapping = {}\n",
    "for x in range(len(total_colors)):\n",
    "  mapping[total_colors[x]] = x\n",
    "\n",
    "# integer representation\n",
    "for x in range(len(colors)):\n",
    "  colors[x] = mapping[colors[x]]\n",
    "\n",
    "one_hot_encode = to_categorical(colors)\n",
    "print(one_hot_encode)"
   ]
  },
  {
   "cell_type": "markdown",
   "id": "ac1c0dda",
   "metadata": {},
   "source": [
    "Restructure data where object types as one_hot vector. Shape from [19,4] to [19,8] \n"
   ]
  },
  {
   "cell_type": "code",
   "execution_count": 11,
   "id": "c928b975",
   "metadata": {},
   "outputs": [
    {
     "data": {
      "text/plain": [
       "array([[39.33615494,  0.        ,  1.00352752,  1.        ],\n",
       "       [ 0.        ,  0.        ,  0.        ,  0.        ],\n",
       "       [ 0.        ,  0.        ,  0.        ,  0.        ],\n",
       "       [ 0.        ,  0.        ,  0.        ,  0.        ],\n",
       "       [ 0.        ,  0.        ,  0.        ,  0.        ],\n",
       "       [28.76571083,  1.69506621, -1.92028069,  3.        ],\n",
       "       [ 0.        ,  0.        ,  0.        ,  0.        ],\n",
       "       [ 0.        ,  0.        ,  0.        ,  0.        ],\n",
       "       [ 0.        ,  0.        ,  0.        ,  0.        ],\n",
       "       [ 0.        ,  0.        ,  0.        ,  0.        ],\n",
       "       [ 0.        ,  0.        ,  0.        ,  0.        ],\n",
       "       [ 0.        ,  0.        ,  0.        ,  0.        ],\n",
       "       [ 0.        ,  0.        ,  0.        ,  0.        ],\n",
       "       [ 0.        ,  0.        ,  0.        ,  0.        ],\n",
       "       [ 0.        ,  0.        ,  0.        ,  0.        ],\n",
       "       [ 0.        ,  0.        ,  0.        ,  0.        ],\n",
       "       [ 0.        ,  0.        ,  0.        ,  0.        ],\n",
       "       [ 0.        ,  0.        ,  0.        ,  0.        ],\n",
       "       [ 0.        ,  0.        ,  0.        ,  0.        ]])"
      ]
     },
     "execution_count": 11,
     "metadata": {},
     "output_type": "execute_result"
    }
   ],
   "source": [
    "full_data[3] #original 19,4 shape"
   ]
  },
  {
   "cell_type": "code",
   "execution_count": 12,
   "id": "fb57e2cc",
   "metadata": {},
   "outputs": [
    {
     "name": "stdout",
     "output_type": "stream",
     "text": [
      "[[36.76086426  0.          0.65978301  1.        ]\n",
      " [28.77516556  2.60976386 -2.98817372  2.        ]\n",
      " [ 0.          0.          0.          0.        ]\n",
      " [ 0.          0.          0.          0.        ]\n",
      " [ 0.          0.          0.          0.        ]\n",
      " [ 0.          0.          0.          0.        ]\n",
      " [ 0.          0.          0.          0.        ]\n",
      " [ 0.          0.          0.          0.        ]\n",
      " [ 0.          0.          0.          0.        ]\n",
      " [ 0.          0.          0.          0.        ]\n",
      " [ 0.          0.          0.          0.        ]\n",
      " [ 0.          0.          0.          0.        ]\n",
      " [ 0.          0.          0.          0.        ]\n",
      " [ 0.          0.          0.          0.        ]\n",
      " [ 0.          0.          0.          0.        ]\n",
      " [ 0.          0.          0.          0.        ]\n",
      " [ 0.          0.          0.          0.        ]\n",
      " [ 0.          0.          0.          0.        ]\n",
      " [ 0.          0.          0.          0.        ]]\n"
     ]
    }
   ],
   "source": [
    "testing=full_data[99]\n",
    "print(testing)"
   ]
  },
  {
   "cell_type": "code",
   "execution_count": 13,
   "id": "63774d46",
   "metadata": {},
   "outputs": [
    {
     "name": "stdout",
     "output_type": "stream",
     "text": [
      "[1. 2. 0. 0. 0. 0. 0. 0. 0. 0. 0. 0. 0. 0. 0. 0. 0. 0. 0.]\n"
     ]
    }
   ],
   "source": [
    "event_obj_type=testing[:,3]#type of elements extracted\n",
    "#np.transpose(data_obj_type)\n",
    "print(event_obj_type)"
   ]
  },
  {
   "cell_type": "code",
   "execution_count": 19,
   "id": "36885003",
   "metadata": {},
   "outputs": [],
   "source": [
    "#to onehot vector\n",
    "event_obj_oh=to_categorical(event_obj_type,5)\n",
    "#print(event_obj_oh)"
   ]
  },
  {
   "cell_type": "code",
   "execution_count": 20,
   "id": "6f46ada9",
   "metadata": {},
   "outputs": [],
   "source": [
    "event_wo_type=testing[:,:3]#event without type\n",
    "#print(event_wo_type)"
   ]
  },
  {
   "cell_type": "code",
   "execution_count": 21,
   "id": "13adebf7",
   "metadata": {},
   "outputs": [
    {
     "name": "stdout",
     "output_type": "stream",
     "text": [
      "(19, 8)\n"
     ]
    }
   ],
   "source": [
    "event_oh=np.concatenate((event_wo_type,event_obj_oh),axis=1)\n",
    "print(event_oh.shape)\n",
    "#print(event_oh)"
   ]
  },
  {
   "cell_type": "code",
   "execution_count": 157,
   "id": "a0443de1",
   "metadata": {},
   "outputs": [],
   "source": [
    "#suurema batchi peal\n",
    "#print(full_data[:])\n",
    "event_obj_type=full_data[:,:,3]\n",
    "events_phis=full_data[:,:,2]\n",
    "#print(event_obj_type)Object types from all events\n",
    "event_obj_oh=to_categorical(event_obj_type,5)\n",
    "#print(event_obj_oh[3])All the object types turned to one hot\n",
    "event_wo_type_phi=full_data[:,:,:2]#original events without type and phi\n",
    "cos_sin=np.stack((np.cos(events_phis),np.sin(events_phis)),axis=2)#stack cos and sine oh phi\n",
    "event_w_trig=np.concatenate((event_wo_type_phi[:],cos_sin[:]),axis=2)#add trig\n",
    "event_oh_trig=np.concatenate((event_w_trig[:],event_obj_oh[:]),axis=2)#add oh vectors"
   ]
  },
  {
   "cell_type": "code",
   "execution_count": 160,
   "id": "fb082b3b",
   "metadata": {},
   "outputs": [
    {
     "name": "stdout",
     "output_type": "stream",
     "text": [
      "[[ 3.79869766e+01  0.00000000e+00 -8.81660107e-01  4.71885002e-01\n",
      "   0.00000000e+00  1.00000000e+00  0.00000000e+00  0.00000000e+00\n",
      "   0.00000000e+00]\n",
      " [ 2.41772156e+01  6.17406607e-01  5.75752756e-01 -8.17623853e-01\n",
      "   0.00000000e+00  0.00000000e+00  1.00000000e+00  0.00000000e+00\n",
      "   0.00000000e+00]\n",
      " [ 0.00000000e+00  0.00000000e+00  1.00000000e+00  0.00000000e+00\n",
      "   1.00000000e+00  0.00000000e+00  0.00000000e+00  0.00000000e+00\n",
      "   0.00000000e+00]\n",
      " [ 0.00000000e+00  0.00000000e+00  1.00000000e+00  0.00000000e+00\n",
      "   1.00000000e+00  0.00000000e+00  0.00000000e+00  0.00000000e+00\n",
      "   0.00000000e+00]\n",
      " [ 0.00000000e+00  0.00000000e+00  1.00000000e+00  0.00000000e+00\n",
      "   1.00000000e+00  0.00000000e+00  0.00000000e+00  0.00000000e+00\n",
      "   0.00000000e+00]\n",
      " [ 0.00000000e+00  0.00000000e+00  1.00000000e+00  0.00000000e+00\n",
      "   1.00000000e+00  0.00000000e+00  0.00000000e+00  0.00000000e+00\n",
      "   0.00000000e+00]\n",
      " [ 0.00000000e+00  0.00000000e+00  1.00000000e+00  0.00000000e+00\n",
      "   1.00000000e+00  0.00000000e+00  0.00000000e+00  0.00000000e+00\n",
      "   0.00000000e+00]\n",
      " [ 0.00000000e+00  0.00000000e+00  1.00000000e+00  0.00000000e+00\n",
      "   1.00000000e+00  0.00000000e+00  0.00000000e+00  0.00000000e+00\n",
      "   0.00000000e+00]\n",
      " [ 0.00000000e+00  0.00000000e+00  1.00000000e+00  0.00000000e+00\n",
      "   1.00000000e+00  0.00000000e+00  0.00000000e+00  0.00000000e+00\n",
      "   0.00000000e+00]\n",
      " [ 1.96639423e+01 -2.01761365e+00  4.70155335e-03 -9.99988948e-01\n",
      "   0.00000000e+00  0.00000000e+00  0.00000000e+00  0.00000000e+00\n",
      "   1.00000000e+00]\n",
      " [ 1.81165371e+01  1.29568124e+00 -6.58576760e-01  7.52513555e-01\n",
      "   0.00000000e+00  0.00000000e+00  0.00000000e+00  0.00000000e+00\n",
      "   1.00000000e+00]\n",
      " [ 0.00000000e+00  0.00000000e+00  1.00000000e+00  0.00000000e+00\n",
      "   1.00000000e+00  0.00000000e+00  0.00000000e+00  0.00000000e+00\n",
      "   0.00000000e+00]\n",
      " [ 0.00000000e+00  0.00000000e+00  1.00000000e+00  0.00000000e+00\n",
      "   1.00000000e+00  0.00000000e+00  0.00000000e+00  0.00000000e+00\n",
      "   0.00000000e+00]\n",
      " [ 0.00000000e+00  0.00000000e+00  1.00000000e+00  0.00000000e+00\n",
      "   1.00000000e+00  0.00000000e+00  0.00000000e+00  0.00000000e+00\n",
      "   0.00000000e+00]\n",
      " [ 0.00000000e+00  0.00000000e+00  1.00000000e+00  0.00000000e+00\n",
      "   1.00000000e+00  0.00000000e+00  0.00000000e+00  0.00000000e+00\n",
      "   0.00000000e+00]\n",
      " [ 0.00000000e+00  0.00000000e+00  1.00000000e+00  0.00000000e+00\n",
      "   1.00000000e+00  0.00000000e+00  0.00000000e+00  0.00000000e+00\n",
      "   0.00000000e+00]\n",
      " [ 0.00000000e+00  0.00000000e+00  1.00000000e+00  0.00000000e+00\n",
      "   1.00000000e+00  0.00000000e+00  0.00000000e+00  0.00000000e+00\n",
      "   0.00000000e+00]\n",
      " [ 0.00000000e+00  0.00000000e+00  1.00000000e+00  0.00000000e+00\n",
      "   1.00000000e+00  0.00000000e+00  0.00000000e+00  0.00000000e+00\n",
      "   0.00000000e+00]\n",
      " [ 0.00000000e+00  0.00000000e+00  1.00000000e+00  0.00000000e+00\n",
      "   1.00000000e+00  0.00000000e+00  0.00000000e+00  0.00000000e+00\n",
      "   0.00000000e+00]]\n"
     ]
    }
   ],
   "source": [
    "#print(cos_sin)\n",
    "print(event_oh_trig[6])\n",
    "#print(event)"
   ]
  },
  {
   "cell_type": "code",
   "execution_count": 78,
   "id": "7313dcc0",
   "metadata": {},
   "outputs": [
    {
     "name": "stdout",
     "output_type": "stream",
     "text": [
      "[[37.98697662  0.          2.65016508  0.          1.          0.\n",
      "   0.          0.        ]\n",
      " [24.17721558  0.61740661 -0.95727181  0.          0.          1.\n",
      "   0.          0.        ]\n",
      " [ 0.          0.          0.          1.          0.          0.\n",
      "   0.          0.        ]\n",
      " [ 0.          0.          0.          1.          0.          0.\n",
      "   0.          0.        ]\n",
      " [ 0.          0.          0.          1.          0.          0.\n",
      "   0.          0.        ]\n",
      " [ 0.          0.          0.          1.          0.          0.\n",
      "   0.          0.        ]\n",
      " [ 0.          0.          0.          1.          0.          0.\n",
      "   0.          0.        ]\n",
      " [ 0.          0.          0.          1.          0.          0.\n",
      "   0.          0.        ]\n",
      " [ 0.          0.          0.          1.          0.          0.\n",
      "   0.          0.        ]\n",
      " [19.66394234 -2.01761365 -1.56609476  0.          0.          0.\n",
      "   0.          1.        ]\n",
      " [18.11653709  1.29568124  2.2897222   0.          0.          0.\n",
      "   0.          1.        ]\n",
      " [ 0.          0.          0.          1.          0.          0.\n",
      "   0.          0.        ]\n",
      " [ 0.          0.          0.          1.          0.          0.\n",
      "   0.          0.        ]\n",
      " [ 0.          0.          0.          1.          0.          0.\n",
      "   0.          0.        ]\n",
      " [ 0.          0.          0.          1.          0.          0.\n",
      "   0.          0.        ]\n",
      " [ 0.          0.          0.          1.          0.          0.\n",
      "   0.          0.        ]\n",
      " [ 0.          0.          0.          1.          0.          0.\n",
      "   0.          0.        ]\n",
      " [ 0.          0.          0.          1.          0.          0.\n",
      "   0.          0.        ]\n",
      " [ 0.          0.          0.          1.          0.          0.\n",
      "   0.          0.        ]]\n"
     ]
    },
    {
     "data": {
      "text/plain": [
       "array([[ 3.79869766e+01,  0.00000000e+00, -8.81660107e-01,\n",
       "         4.71885002e-01,  0.00000000e+00,  1.00000000e+00,\n",
       "         0.00000000e+00,  0.00000000e+00,  0.00000000e+00],\n",
       "       [ 2.41772156e+01,  6.17406607e-01,  5.75752756e-01,\n",
       "        -8.17623853e-01,  0.00000000e+00,  0.00000000e+00,\n",
       "         1.00000000e+00,  0.00000000e+00,  0.00000000e+00],\n",
       "       [ 0.00000000e+00,  0.00000000e+00,  1.00000000e+00,\n",
       "         0.00000000e+00,  1.00000000e+00,  0.00000000e+00,\n",
       "         0.00000000e+00,  0.00000000e+00,  0.00000000e+00],\n",
       "       [ 0.00000000e+00,  0.00000000e+00,  1.00000000e+00,\n",
       "         0.00000000e+00,  1.00000000e+00,  0.00000000e+00,\n",
       "         0.00000000e+00,  0.00000000e+00,  0.00000000e+00],\n",
       "       [ 0.00000000e+00,  0.00000000e+00,  1.00000000e+00,\n",
       "         0.00000000e+00,  1.00000000e+00,  0.00000000e+00,\n",
       "         0.00000000e+00,  0.00000000e+00,  0.00000000e+00],\n",
       "       [ 0.00000000e+00,  0.00000000e+00,  1.00000000e+00,\n",
       "         0.00000000e+00,  1.00000000e+00,  0.00000000e+00,\n",
       "         0.00000000e+00,  0.00000000e+00,  0.00000000e+00],\n",
       "       [ 0.00000000e+00,  0.00000000e+00,  1.00000000e+00,\n",
       "         0.00000000e+00,  1.00000000e+00,  0.00000000e+00,\n",
       "         0.00000000e+00,  0.00000000e+00,  0.00000000e+00],\n",
       "       [ 0.00000000e+00,  0.00000000e+00,  1.00000000e+00,\n",
       "         0.00000000e+00,  1.00000000e+00,  0.00000000e+00,\n",
       "         0.00000000e+00,  0.00000000e+00,  0.00000000e+00],\n",
       "       [ 0.00000000e+00,  0.00000000e+00,  1.00000000e+00,\n",
       "         0.00000000e+00,  1.00000000e+00,  0.00000000e+00,\n",
       "         0.00000000e+00,  0.00000000e+00,  0.00000000e+00],\n",
       "       [ 1.96639423e+01, -2.01761365e+00,  4.70155335e-03,\n",
       "        -9.99988948e-01,  0.00000000e+00,  0.00000000e+00,\n",
       "         0.00000000e+00,  0.00000000e+00,  1.00000000e+00],\n",
       "       [ 1.81165371e+01,  1.29568124e+00, -6.58576760e-01,\n",
       "         7.52513555e-01,  0.00000000e+00,  0.00000000e+00,\n",
       "         0.00000000e+00,  0.00000000e+00,  1.00000000e+00],\n",
       "       [ 0.00000000e+00,  0.00000000e+00,  1.00000000e+00,\n",
       "         0.00000000e+00,  1.00000000e+00,  0.00000000e+00,\n",
       "         0.00000000e+00,  0.00000000e+00,  0.00000000e+00],\n",
       "       [ 0.00000000e+00,  0.00000000e+00,  1.00000000e+00,\n",
       "         0.00000000e+00,  1.00000000e+00,  0.00000000e+00,\n",
       "         0.00000000e+00,  0.00000000e+00,  0.00000000e+00],\n",
       "       [ 0.00000000e+00,  0.00000000e+00,  1.00000000e+00,\n",
       "         0.00000000e+00,  1.00000000e+00,  0.00000000e+00,\n",
       "         0.00000000e+00,  0.00000000e+00,  0.00000000e+00],\n",
       "       [ 0.00000000e+00,  0.00000000e+00,  1.00000000e+00,\n",
       "         0.00000000e+00,  1.00000000e+00,  0.00000000e+00,\n",
       "         0.00000000e+00,  0.00000000e+00,  0.00000000e+00],\n",
       "       [ 0.00000000e+00,  0.00000000e+00,  1.00000000e+00,\n",
       "         0.00000000e+00,  1.00000000e+00,  0.00000000e+00,\n",
       "         0.00000000e+00,  0.00000000e+00,  0.00000000e+00],\n",
       "       [ 0.00000000e+00,  0.00000000e+00,  1.00000000e+00,\n",
       "         0.00000000e+00,  1.00000000e+00,  0.00000000e+00,\n",
       "         0.00000000e+00,  0.00000000e+00,  0.00000000e+00],\n",
       "       [ 0.00000000e+00,  0.00000000e+00,  1.00000000e+00,\n",
       "         0.00000000e+00,  1.00000000e+00,  0.00000000e+00,\n",
       "         0.00000000e+00,  0.00000000e+00,  0.00000000e+00],\n",
       "       [ 0.00000000e+00,  0.00000000e+00,  1.00000000e+00,\n",
       "         0.00000000e+00,  1.00000000e+00,  0.00000000e+00,\n",
       "         0.00000000e+00,  0.00000000e+00,  0.00000000e+00]])"
      ]
     },
     "execution_count": 78,
     "metadata": {},
     "output_type": "execute_result"
    }
   ],
   "source": [
    "print(event_oh[6,:])\n",
    "event=event_oh[6,:]\n",
    "events_phis=event[:,2]#excract phi values\n",
    "event_wo_phis=np.delete(event, obj=2,axis=1)#delete original phi\n",
    "events_trig=np.insert(event_wo_phis, 2, values=np.sin(events_phis), axis=1)# add sine of phi\n",
    "events_trig=np.insert(events_trig, 2, values=np.cos(events_phis), axis=1)#add cos of phi\n",
    "events_trig#The order of features will be P_t, eta,cos(phi),sin(phi),types\n",
    "#= np.sin(b[:,1])"
   ]
  },
  {
   "cell_type": "code",
   "execution_count": 71,
   "id": "4941a740",
   "metadata": {},
   "outputs": [
    {
     "data": {
      "text/plain": [
       "(19, 9)"
      ]
     },
     "execution_count": 71,
     "metadata": {},
     "output_type": "execute_result"
    }
   ],
   "source": [
    "events_trig.shape"
   ]
  },
  {
   "cell_type": "code",
   "execution_count": 188,
   "id": "573e11a8",
   "metadata": {},
   "outputs": [],
   "source": [
    "import argparse\n",
    "import h5py\n",
    "from sklearn.model_selection import train_test_split\n",
    "import numpy as np\n",
    "import tensorflow as tf\n",
    "import tensorflow.keras as keras\n",
    "from tensorflow.keras.utils import to_categorical\n",
    "\n",
    "def create_datasets_dense_onehot(bkg_file, output_bkg_name, signals_files, output_signal_names, events=None, test_size=0.2, val_size=0.2, input_shape=171):\n",
    "\n",
    "    # read BACKGROUND data\n",
    "    with h5py.File(bkg_file, 'r') as file:\n",
    "        full_data = file['Particles'][:,:,:]\n",
    "        np.random.shuffle(full_data)\n",
    "        if events: full_data = full_data[:events,:,:]\n",
    "    ##########################Adding OH,cos(phi),sin(phi)############################################        \n",
    "    event_obj_type=full_data[:,:,3]#Object types from all events\n",
    "    events_phis=full_data[:,:,2]#extract phis\n",
    "    event_obj_oh=to_categorical(event_obj_type,5)#All the object types turned to one hot\n",
    "    event_wo_type_phi=full_data[:,:,:2]#original events without type and phi\n",
    "    cos_sin=np.stack((np.cos(events_phis),np.sin(events_phis)),axis=2)#stack cos and sine oh phi\n",
    "    event_w_trig=np.concatenate((event_wo_type_phi[:],cos_sin[:]),axis=2)#add trig\n",
    "    full_data=np.concatenate((event_w_trig[:],event_obj_oh[:]),axis=2)#original data combined with OH v. and trig       \n",
    "    ##################################################################################################\n",
    "    \n",
    "    \n",
    "    ####################3ONLY OH VECTOR ADDING#########################################################\n",
    "    #event_obj_type=full_data[:,:,3]#Object types from all events\n",
    "    #event_obj_oh=to_categorical(event_obj_type,5)#All the object types turned to one hot\n",
    "    #event_wo_type=full_data[:,:,:3]#original events without type\n",
    "    #full_data=np.concatenate((event_wo_type[:],event_obj_oh[:]),axis=2)#original data combined with one hot vectors\n",
    "    ###################################################################################################\n",
    "\n",
    "    # define training, test and validation datasets\n",
    "    X_train, X_test = train_test_split(full_data, test_size=test_size, shuffle=True)\n",
    "    X_train, X_val = train_test_split(X_train, test_size=val_size)\n",
    "\n",
    "    del full_data\n",
    "\n",
    "    # flatten the data for model input\n",
    "    X_train = X_train.reshape(X_train.shape[0], input_shape)\n",
    "    X_test = X_test.reshape(X_test.shape[0], input_shape)\n",
    "    X_val = X_val.reshape(X_val.shape[0], input_shape)\n",
    "\n",
    "\n",
    "    with h5py.File(output_bkg_name + '_OH_dataset.h5', 'w') as h5f:\n",
    "        print(\"saving\")\n",
    "        h5f.create_dataset('X_train', data = X_train)\n",
    "        h5f.create_dataset('X_test', data = X_test)\n",
    "        h5f.create_dataset('X_val', data = X_val)  \n",
    "        \n",
    "        \n",
    "    if signals_files:\n",
    "        # read SIGNAL data\n",
    "        for i, signal_file in enumerate(signals_files):\n",
    "            print(\"teen if\")\n",
    "            f = h5py.File(signal_file,'r')\n",
    "            signal_data = f['Particles'][:,:,:]\n",
    "            \n",
    "            \n",
    "            event_obj_type=signal_data[:,:,3]#Object types from all events\n",
    "            events_phis=signal_data[:,:,2]#extract phis\n",
    "            event_obj_oh=to_categorical(event_obj_type,5)#All the object types turned to one hot\n",
    "            event_wo_type_phi=signal_data[:,:,:2]#original events without type and phi\n",
    "            cos_sin=np.stack((np.cos(events_phis),np.sin(events_phis)),axis=2)#stack cos and sine oh phi\n",
    "            event_w_trig=np.concatenate((event_wo_type_phi[:],cos_sin[:]),axis=2)#add trig\n",
    "            signal_data=np.concatenate((event_w_trig[:],event_obj_oh[:]),axis=2)#original data combined with OH v. and trig \n",
    "            \n",
    "            \n",
    "            \n",
    "            \n",
    "            ##same process as before turning types to onehot vectors#######################3\n",
    "            #event_obj_type=signal_data[:,:,3]#Object types from all events\n",
    "            #event_obj_oh=to_categorical(event_obj_type,5)#All the object types turned to one hot\n",
    "            #event_wo_type=signal_data[:,:,:3]#original events without type\n",
    "            #signal_data=np.concatenate((event_wo_type[:],event_obj_oh[:]),axis=2)#original data combined with one hot vectors\n",
    "            ####################################################33#####\n",
    "            signal_data = signal_data.reshape(signal_data.shape[0],input_shape)\n",
    "            with h5py.File(output_signal_names[i] + '_OH_dataset.h5', 'w') as h5f2:\n",
    "                h5f2.create_dataset('Data', data = signal_data)        \n",
    "    return                                                                                "
   ]
  },
  {
   "cell_type": "code",
   "execution_count": null,
   "id": "307f36d3",
   "metadata": {},
   "outputs": [],
   "source": [
    "sspython3 create_datasets_OH.py \n",
    "--bkg_file '/home/aadi/praktika/ADC/files/background_for_training.h5' \n",
    "--output_bkg_name 'BKG_OH_TRIG'\n",
    "--signals_files '/home/aadi/praktika/ADC/files/Ato4l_lepFilter_13TeV.h5' \n",
    "--output_signal_names 'Ato4l_lepFilter_13TeV_OH' \n",
    "--events=1000000\n",
    "\n"
   ]
  },
  {
   "cell_type": "code",
   "execution_count": 189,
   "id": "0a9da5a3",
   "metadata": {},
   "outputs": [],
   "source": [
    "signal_files = ['/home/aadi/praktika/ADC/files/Ato4l_lepFilter_13TeV.h5',\n",
    "            '/home/aadi/praktika/ADC/files/hChToTauNu_13TeV_PU20.h5',\n",
    "            '/home/aadi/praktika/ADC/files/hToTauTau_13TeV_PU20.h5',\n",
    "            '/home/aadi/praktika/ADC/files/leptoquark_LOWMASS_lepFilter_13TeV.h5',\n",
    "            '/home/aadi/praktika/ADC/files/background_for_training.h5']\n"
   ]
  },
  {
   "cell_type": "code",
   "execution_count": 190,
   "id": "fb2b6c40",
   "metadata": {},
   "outputs": [],
   "source": [
    "signal_output=['./signals/oh_trig/Ato4l_lepFilter_13TeV_input_OH_trig',\n",
    "                 './signals/oh_trig/hChToTauNu_13TeV_PU20_input_OH_trig',\n",
    "                 './signals/oh_trig/hToTauTau_13TeV_PU20_input_OH_trig',\n",
    "                 './signals/oh_trig/leptoquark_LOWMASS_lepFilter_13TeV_input_OH_trig',\n",
    "                 './signals/oh_trig/background_for_training_input_OH_trig']"
   ]
  },
  {
   "cell_type": "code",
   "execution_count": 191,
   "id": "2e9b5c3a",
   "metadata": {},
   "outputs": [],
   "source": [
    "bkg_file= '/home/aadi/praktika/ADC/files/background_for_training.h5' \n",
    "output_bkg_name= './signals/oh_trig/BKG_OH_TRIG'\n",
    "signals_files= signal_files \n",
    "output_signal_names= signal_output\n",
    "events=4000000"
   ]
  },
  {
   "cell_type": "code",
   "execution_count": 193,
   "id": "589ed0e8",
   "metadata": {},
   "outputs": [
    {
     "name": "stdout",
     "output_type": "stream",
     "text": [
      "saving\n",
      "teen if\n",
      "teen if\n",
      "teen if\n",
      "teen if\n",
      "teen if\n"
     ]
    }
   ],
   "source": [
    "create_datasets_dense_onehot(bkg_file, output_bkg_name, signals_files, output_signal_names, events=None, test_size=0.2, val_size=0.2, input_shape=171)"
   ]
  },
  {
   "cell_type": "code",
   "execution_count": null,
   "id": "3aed2d1c",
   "metadata": {},
   "outputs": [],
   "source": []
  }
 ],
 "metadata": {
  "kernelspec": {
   "display_name": "Python 3 (ipykernel)",
   "language": "python",
   "name": "python3"
  },
  "language_info": {
   "codemirror_mode": {
    "name": "ipython",
    "version": 3
   },
   "file_extension": ".py",
   "mimetype": "text/x-python",
   "name": "python",
   "nbconvert_exporter": "python",
   "pygments_lexer": "ipython3",
   "version": "3.8.10"
  }
 },
 "nbformat": 4,
 "nbformat_minor": 5
}
