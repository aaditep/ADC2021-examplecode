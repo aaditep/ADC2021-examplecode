{
 "cells": [
  {
   "cell_type": "code",
   "execution_count": 1,
   "id": "87dc1d30",
   "metadata": {},
   "outputs": [],
   "source": [
    "import numpy as np\n",
    "import h5py\n",
    "import math\n",
    "import os\n",
    "import pathlib\n",
    "import matplotlib.pyplot as plt\n",
    "import matplotlib\n",
    "%matplotlib inline\n",
    "import tensorflow as tf\n",
    "import tensorflow.keras as keras\n",
    "from tensorflow.keras.models import Model\n",
    "from tensorflow.keras.layers import Input, Dense, BatchNormalization, Activation, Layer, ReLU, LeakyReLU\n",
    "from tensorflow.keras import backend as K"
   ]
  },
  {
   "cell_type": "code",
   "execution_count": 2,
   "id": "a9734bcb",
   "metadata": {},
   "outputs": [],
   "source": [
    "from func import *"
   ]
  },
  {
   "cell_type": "markdown",
   "id": "9b7c1b69",
   "metadata": {},
   "source": [
    "Restructuring data with type classification using one_hot interpretation. Loading data:"
   ]
  },
  {
   "cell_type": "code",
   "execution_count": 2,
   "id": "2a179d27",
   "metadata": {},
   "outputs": [],
   "source": [
    "filename = './signals/BKG_4e6_dataset.h5'\n",
    "# make sure input data has correct input shape - background training data\n",
    "with h5py.File(filename, 'r') as file:\n",
    "    X_train = np.array(file['X_train'])\n",
    "    X_test = np.array(file['X_test'])\n",
    "    X_val = np.array(file['X_val'])"
   ]
  },
  {
   "cell_type": "markdown",
   "id": "e924227c",
   "metadata": {},
   "source": [
    "Define Dense NN architecture"
   ]
  },
  {
   "cell_type": "code",
   "execution_count": 2,
   "id": "cb825f9d",
   "metadata": {},
   "outputs": [],
   "source": [
    "import argparse\n",
    "import h5py\n",
    "from sklearn.model_selection import train_test_split\n",
    "import numpy as np\n",
    "import tensorflow as tf\n",
    "import tensorflow.keras as keras\n",
    "from tensorflow.keras.utils import to_categorical\n",
    "\n",
    "\n",
    "bkg_file= '/home/aadi/praktika/ADC/files/background_for_training.h5'\n",
    "events=None, \n",
    "test_size=0.2 \n",
    "val_size=0.2\n",
    "input_shape=171"
   ]
  },
  {
   "cell_type": "code",
   "execution_count": 66,
   "id": "fc973629",
   "metadata": {},
   "outputs": [
    {
     "name": "stdout",
     "output_type": "stream",
     "text": [
      "(4000000, 19, 4)\n"
     ]
    }
   ],
   "source": [
    " # read BACKGROUND data\n",
    "with h5py.File(bkg_file, 'r') as file:\n",
    "    full_data = file['Particles'][:,:,:]\n",
    "    np.random.seed(42)\n",
    "    np.random.shuffle(full_data)# SEE KORDA\n",
    "    if events: full_data = full_data[:,:,:]\n",
    "        \n",
    "print(full_data.shape)        \n",
    "##########################Adding OH,cos(phi),sin(phi)############################################        \n",
    "event_obj_type=full_data[:,:,3]#Object types from all events\n",
    "events_phis=full_data[:,:,2]#extract phis\n",
    "event_obj_oh=to_categorical(event_obj_type,5)#All the object types turned to one hot\n",
    "event_wo_type_phi=full_data[:,:,:2]#original events without type and phi\n",
    "cos_sin=np.stack((np.cos(events_phis),np.sin(events_phis)),axis=2)#stack cos and sine oh phi\n",
    "event_w_trig=np.concatenate((event_wo_type_phi[:],cos_sin[:]),axis=2)#add trig\n",
    "full_data=np.concatenate((event_w_trig[:],event_obj_oh[:]),axis=2)#original data combined with OH v. and trig       \n",
    "##################################################################################################\n",
    "\n",
    "\n",
    "# define training, test and validation datasets\n",
    "X_train, X_test = train_test_split(full_data, test_size=test_size, random_state=42, shuffle=True)\n",
    "X_train, X_val = train_test_split(X_train, test_size=val_size, random_state=42, shuffle=True)\n",
    "#del full_data"
   ]
  },
  {
   "cell_type": "code",
   "execution_count": 20,
   "id": "9c2de5cb",
   "metadata": {},
   "outputs": [
    {
     "data": {
      "text/plain": [
       "(4000000, 19, 9)"
      ]
     },
     "execution_count": 20,
     "metadata": {},
     "output_type": "execute_result"
    }
   ],
   "source": [
    "full_data.reshape(len(full_data),19,4)"
   ]
  },
  {
   "cell_type": "markdown",
   "id": "1347630c",
   "metadata": {},
   "source": [
    "Different Approach to finding standardizing arguments. I will first plot out all the features, then find means and stds for all. Using redundant \"for cycle\". Slow but will do the job."
   ]
  },
  {
   "cell_type": "code",
   "execution_count": 13,
   "id": "5ad53b58",
   "metadata": {},
   "outputs": [
    {
     "data": {
      "text/plain": [
       "(4000000, 19, 5)"
      ]
     },
     "execution_count": 13,
     "metadata": {},
     "output_type": "execute_result"
    }
   ],
   "source": [
    "event_obj_type=event_obj_type.reshape(len(full_data),19,1)\n",
    "event_trig_type=np.concatenate((event_w_trig[:],event_obj_type[:]),axis=2)\n",
    "event_trig_type.shape"
   ]
  },
  {
   "cell_type": "code",
   "execution_count": 3,
   "id": "3b824117",
   "metadata": {},
   "outputs": [],
   "source": [
    "def find_stds_means_bkg(event_trig_type):\n",
    "    data_output=event_trig_type #data with cos sin and type\n",
    "    keys=[\"pt\",\"eta\",\"cos\",\"sin\"] #Keys for dictionries\n",
    "    #initiate dictionaries\n",
    "    MET={\"pt\" : [], \"eta\" : [], \"cos\" : [], \"sin\" : []}\n",
    "    ELEKT={\"pt\" : [], \"eta\" : [], \"cos\" : [], \"sin\" : []}\n",
    "    MUON={\"pt\" : [], \"eta\" : [], \"cos\" : [], \"sin\" : []}\n",
    "    JETID={\"pt\" : [], \"eta\" : [], \"cos\" : [], \"sin\" : []}\n",
    "    for i in range(len(data_output)): #loop through all events\n",
    "        #met_per_event counter\n",
    "        met_per_event=0\n",
    "        elekt_per_event=0\n",
    "        muon_per_event=0\n",
    "        jets_per_event=0\n",
    "    \n",
    "        for j in range(19):#EVENT 19 cardinality\n",
    "            j_object=data_output[i][j][4]#check for object type\n",
    "            if j_object==1:\n",
    "                met_per_event +=1\n",
    "                for feat,key in enumerate(keys):#take needed value according to key\n",
    "                    MET[key].append(data_output[i][j][feat])#add value \n",
    "            if j_object==2:\n",
    "                elekt_per_event +=1\n",
    "                for feat,key in enumerate(keys):\n",
    "                    ELEKT[key].append(data_output[i][j][feat])\n",
    "            if j_object==3:\n",
    "                muon_per_event +=1\n",
    "                for feat,key in enumerate(keys):\n",
    "                    MUON[key].append(data_output[i][j][feat])\n",
    "            if j_object==4:\n",
    "                jets_per_event +=1\n",
    "                for feat,key in enumerate(keys):\n",
    "                    JETID[key].append(data_output[i][j][feat])\n",
    "    objects={\"met\": MET,\"elekt\" : ELEKT , \"muon\" : MUON , \"jetid\" : JETID}\n",
    "    mean_stds={}\n",
    "    for i,obj in enumerate(objects):\n",
    "        dict_mstd={}\n",
    "        for i,key in enumerate(keys):\n",
    "            dict_mstd[key]={\"mean\" : np.mean(objects[obj][key]), \"std\" : np.std(objects[obj][key])}\n",
    "        mean_stds[obj]=dict_mstd\n",
    "        \n",
    "    return mean_stds"
   ]
  },
  {
   "cell_type": "code",
   "execution_count": null,
   "id": "94a30a47",
   "metadata": {},
   "outputs": [],
   "source": [
    "#Standardizing will be straight forward also.\n",
    "#0-3 indexes for met\n",
    "#4-19 inedexes for elektrons\n",
    "#20-35 indexes for muons\n",
    "#36-75 indexes for jets"
   ]
  },
  {
   "cell_type": "code",
   "execution_count": 67,
   "id": "f2b797ea",
   "metadata": {},
   "outputs": [
    {
     "data": {
      "text/plain": [
       "(4000000, 19, 5)"
      ]
     },
     "execution_count": 67,
     "metadata": {},
     "output_type": "execute_result"
    }
   ],
   "source": [
    "event_obj_type=event_obj_type.reshape(len(full_data),19,1)\n",
    "event_trig_type=np.concatenate((event_w_trig[:],event_obj_type[:]),axis=2)\n",
    "event_trig_type.shape"
   ]
  },
  {
   "cell_type": "code",
   "execution_count": 80,
   "id": "fed2398b",
   "metadata": {},
   "outputs": [],
   "source": [
    "uus=event_trig_type[:,:,:4]"
   ]
  },
  {
   "cell_type": "code",
   "execution_count": 81,
   "id": "6f347830",
   "metadata": {},
   "outputs": [
    {
     "data": {
      "text/plain": [
       "array([[-0.05202916,  0.        , -0.70097354, -1.2290017 ],\n",
       "       [-0.77632834,  0.10033965,  1.20591092,  0.73980123],\n",
       "       [ 0.        ,  0.        ,  1.        ,  0.        ],\n",
       "       [ 0.        ,  0.        ,  1.        ,  0.        ],\n",
       "       [ 0.        ,  0.        ,  1.        ,  0.        ],\n",
       "       [ 0.        ,  0.        ,  1.        ,  0.        ],\n",
       "       [ 0.        ,  0.        ,  1.        ,  0.        ],\n",
       "       [ 0.        ,  0.        ,  1.        ,  0.        ],\n",
       "       [ 0.        ,  0.        ,  1.        ,  0.        ],\n",
       "       [-0.54582719, -1.38410598,  1.12270252,  0.86021952],\n",
       "       [ 0.        ,  0.        ,  1.        ,  0.        ],\n",
       "       [ 0.        ,  0.        ,  1.        ,  0.        ],\n",
       "       [ 0.        ,  0.        ,  1.        ,  0.        ],\n",
       "       [ 0.        ,  0.        ,  1.        ,  0.        ],\n",
       "       [ 0.        ,  0.        ,  1.        ,  0.        ],\n",
       "       [ 0.        ,  0.        ,  1.        ,  0.        ],\n",
       "       [ 0.        ,  0.        ,  1.        ,  0.        ],\n",
       "       [ 0.        ,  0.        ,  1.        ,  0.        ],\n",
       "       [ 0.        ,  0.        ,  1.        ,  0.        ]])"
      ]
     },
     "execution_count": 81,
     "metadata": {},
     "output_type": "execute_result"
    }
   ],
   "source": [
    "uus[0]"
   ]
  },
  {
   "cell_type": "code",
   "execution_count": 69,
   "id": "d3d5cb06",
   "metadata": {},
   "outputs": [],
   "source": [
    "tulemus=standardize_data4(event_trig_type,mean_stds)"
   ]
  },
  {
   "cell_type": "code",
   "execution_count": 70,
   "id": "9d729f17",
   "metadata": {},
   "outputs": [],
   "source": [
    "mean_stds=find_stds_means_bkg(tulemus)"
   ]
  },
  {
   "cell_type": "code",
   "execution_count": 71,
   "id": "5fba2593",
   "metadata": {},
   "outputs": [
    {
     "data": {
      "text/plain": [
       "{'met': {'pt': {'mean': 3.855937791286124e-17, 'std': 1.0000000000000002},\n",
       "  'eta': {'mean': 0.0, 'std': 0.0},\n",
       "  'cos': {'mean': 1.7772450178199507e-18, 'std': 0.9999999999999997},\n",
       "  'sin': {'mean': 1.2700951401711791e-17, 'std': 1.0}},\n",
       " 'elekt': {'pt': {'mean': 1.6150414440918867e-16, 'std': 0.9999999999999996},\n",
       "  'eta': {'mean': 1.2310997386555185e-17, 'std': 0.9999999999999992},\n",
       "  'cos': {'mean': 1.5386306012062626e-17, 'std': 0.9999999999999996},\n",
       "  'sin': {'mean': 4.199667493351696e-17, 'std': 0.9999999999999996}},\n",
       " 'muon': {'pt': {'mean': -1.8237994402566313e-16, 'std': 1.0000000000000004},\n",
       "  'eta': {'mean': -1.795374596411014e-17, 'std': 0.9999999999999998},\n",
       "  'cos': {'mean': 2.3049091283192746e-17, 'std': 1.0000000000000002},\n",
       "  'sin': {'mean': -2.393064556191831e-17, 'std': 0.9999999999999999}},\n",
       " 'jetid': {'pt': {'mean': -1.0970731547127946e-16, 'std': 1.0000000000000002},\n",
       "  'eta': {'mean': -2.2027313791196887e-17, 'std': 0.9999999999999998},\n",
       "  'cos': {'mean': -2.5994125678609728e-17, 'std': 1.0},\n",
       "  'sin': {'mean': -3.214861719957468e-17, 'std': 0.9999999999999999}}}"
      ]
     },
     "execution_count": 71,
     "metadata": {},
     "output_type": "execute_result"
    }
   ],
   "source": [
    "mean_stds"
   ]
  },
  {
   "cell_type": "code",
   "execution_count": 18,
   "id": "81709934",
   "metadata": {},
   "outputs": [],
   "source": [
    "mean_stds=find_stds_means_bkg(event_trig_type)"
   ]
  },
  {
   "cell_type": "code",
   "execution_count": 19,
   "id": "89e0a70c",
   "metadata": {},
   "outputs": [
    {
     "data": {
      "text/plain": [
       "{'met': {'pt': {'mean': 41.4562931251135, 'std': 21.17293805870149},\n",
       "  'eta': {'mean': 0.0, 'std': 0.0},\n",
       "  'cos': {'mean': 6.393118361991567e-05, 'std': 0.7073504610195422},\n",
       "  'sin': {'mean': 0.00028192700904651165, 'std': 0.7068629582354745}},\n",
       " 'elekt': {'pt': {'mean': 37.54579381574212, 'std': 14.154425675444342},\n",
       "  'eta': {'mean': -0.0003464465965275722, 'std': 1.6391985005870908},\n",
       "  'cos': {'mean': -0.0007123569063861435, 'std': 0.7071327228835375},\n",
       "  'sin': {'mean': 0.00039937824792517945, 'std': 0.7070803669116882}},\n",
       " 'muon': {'pt': {'mean': 37.54423228260537, 'std': 14.310914876105468},\n",
       "  'eta': {'mean': -0.00026549400152860674, 'std': 1.213826845838711},\n",
       "  'cos': {'mean': 4.533641329742322e-05, 'std': 0.7072035329014236},\n",
       "  'sin': {'mean': -5.054241930759607e-05, 'std': 0.7070100129713994}},\n",
       " 'jetid': {'pt': {'mean': 33.04715481975824, 'std': 30.53014991233841},\n",
       "  'eta': {'mean': -0.004052303655904774, 'std': 1.7173831134830846},\n",
       "  'cos': {'mean': 0.0002957384667361168, 'std': 0.7073086259048335},\n",
       "  'sin': {'mean': -0.0006888066410872079, 'std': 0.7069044813868332}}}"
      ]
     },
     "execution_count": 19,
     "metadata": {},
     "output_type": "execute_result"
    }
   ],
   "source": [
    "mean_stds"
   ]
  },
  {
   "cell_type": "code",
   "execution_count": null,
   "id": "a2e0f4c8",
   "metadata": {},
   "outputs": [],
   "source": []
  },
  {
   "cell_type": "code",
   "execution_count": 21,
   "id": "ff9b96a5",
   "metadata": {},
   "outputs": [
    {
     "name": "stdout",
     "output_type": "stream",
     "text": [
      "41.4562931251135\n",
      "21.17293805870149\n"
     ]
    }
   ],
   "source": [
    "X_mean=mean_stds[\"met\"][\"pt\"][\"mean\"]\n",
    "X_std=mean_stds[\"met\"][\"pt\"][\"std\"]\n",
    "print(X_mean)\n",
    "print(X_std)"
   ]
  },
  {
   "cell_type": "code",
   "execution_count": null,
   "id": "acae511e",
   "metadata": {},
   "outputs": [],
   "source": []
  },
  {
   "cell_type": "markdown",
   "id": "15c6b40f",
   "metadata": {},
   "source": [
    "Now create assign stds and means for different features per every object type"
   ]
  },
  {
   "cell_type": "code",
   "execution_count": 62,
   "id": "4440314e",
   "metadata": {},
   "outputs": [
    {
     "data": {
      "text/plain": [
       "{'met': {'pt': {'mean': 41.4562931251135, 'std': 21.17293805870149},\n",
       "  'eta': {'mean': 0.0, 'std': 0.0},\n",
       "  'cos': {'mean': 6.393118361991567e-05, 'std': 0.7073504610195422},\n",
       "  'sin': {'mean': 0.00028192700904651165, 'std': 0.7068629582354745}},\n",
       " 'elekt': {'pt': {'mean': 37.54579381574212, 'std': 14.154425675444342},\n",
       "  'eta': {'mean': -0.0003464465965275722, 'std': 1.6391985005870908},\n",
       "  'cos': {'mean': -0.0007123569063861435, 'std': 0.7071327228835375},\n",
       "  'sin': {'mean': 0.00039937824792517945, 'std': 0.7070803669116882}},\n",
       " 'muon': {'pt': {'mean': 37.54423228260537, 'std': 14.310914876105468},\n",
       "  'eta': {'mean': -0.00026549400152860674, 'std': 1.213826845838711},\n",
       "  'cos': {'mean': 4.533641329742322e-05, 'std': 0.7072035329014236},\n",
       "  'sin': {'mean': -5.054241930759607e-05, 'std': 0.7070100129713994}},\n",
       " 'jetid': {'pt': {'mean': 33.04715481975824, 'std': 30.53014991233841},\n",
       "  'eta': {'mean': -0.004052303655904774, 'std': 1.7173831134830846},\n",
       "  'cos': {'mean': 0.0002957384667361168, 'std': 0.7073086259048335},\n",
       "  'sin': {'mean': -0.0006888066410872079, 'std': 0.7069044813868332}}}"
      ]
     },
     "execution_count": 62,
     "metadata": {},
     "output_type": "execute_result"
    }
   ],
   "source": [
    "mean_stds"
   ]
  },
  {
   "cell_type": "code",
   "execution_count": 36,
   "id": "868173ff",
   "metadata": {},
   "outputs": [
    {
     "data": {
      "text/plain": [
       "Text(0, 0.5, 'EVENTS')"
      ]
     },
     "execution_count": 36,
     "metadata": {},
     "output_type": "execute_result"
    },
    {
     "data": {
      "image/png": "[encoded data removed]",
      "text/plain": [
       "<Figure size 432x288 with 1 Axes>"
      ]
     },
     "metadata": {
      "needs_background": "light"
     },
     "output_type": "display_data"
    }
   ],
   "source": [
    "\n",
    "plt.hist(MET[\"eta\"],bins=100, label=\"sin\", histtype='step', fill=False, linewidth=1.5,log=True)\n",
    "plt.yscale('log')\n",
    "plt.axvline(1, color='red', linestyle='dashed', linewidth=1)\n",
    "plt.axvline(-1, color='red', linestyle='dashed', linewidth=1)\n",
    "plt.xlabel(\"Met cos(phi)\",fontsize=15)\n",
    "#if n== 0:\n",
    "plt.ylabel(\"EVENTS\",fontsize=15)\n",
    "#plt.title(string+'MET cos(phi) vs events',fontsize=15)"
   ]
  },
  {
   "cell_type": "code",
   "execution_count": 174,
   "id": "6eff45f6",
   "metadata": {},
   "outputs": [],
   "source": [
    "\n",
    "test_data=event_w_trig"
   ]
  },
  {
   "cell_type": "code",
   "execution_count": 175,
   "id": "a34fa79b",
   "metadata": {},
   "outputs": [
    {
     "data": {
      "text/plain": [
       "(4000000, 76)"
      ]
     },
     "execution_count": 175,
     "metadata": {},
     "output_type": "execute_result"
    }
   ],
   "source": [
    "test_data2=test_data.reshape(len(test_data),76)\n",
    "test_data2.shape"
   ]
  },
  {
   "cell_type": "code",
   "execution_count": 5,
   "id": "fcbf100a",
   "metadata": {},
   "outputs": [],
   "source": [
    "from sklearn.preprocessing import MinMaxScaler,StandardScaler\n",
    "#scaler=MinMaxScaler()\n",
    "#norm_data = MinMaxScaler().fit_transform(dummy)\n",
    "#normed=scaler.fit_transform(dummy)\n",
    "#normed"
   ]
  },
  {
   "cell_type": "code",
   "execution_count": 26,
   "id": "252b8e6b",
   "metadata": {},
   "outputs": [
    {
     "data": {
      "text/plain": [
       "array([[ 9,  1,  5,  6,  0],\n",
       "       [ 5,  5, 10,  9, 11],\n",
       "       [ 1, 12,  3,  7, 10],\n",
       "       [ 8,  9,  6,  3,  1],\n",
       "       [ 1,  2,  3,  4,  5]])"
      ]
     },
     "execution_count": 26,
     "metadata": {},
     "output_type": "execute_result"
    }
   ],
   "source": [
    "dummy3=np.array([[9,1,5,6,0],[5,5,10,9,11],[1,12,3,7,10],[8,9,6,3,1],[1,2,3,4,5]])\n",
    "dummy3.reshape(5,5)\n",
    "dummy4=np.array([[9,1,5,6,0],[5,5,10,9,11],[1,12,3,7,10],[8,9,6,3,1],[1,2,3,4,5]])\n",
    "dummy4.reshape(5,5)\n",
    "dummy5=np.array([[9,1,5,6,0],[5,5,10,9,11],[1,12,3,7,10],[8,9,6,3,1],[1,2,3,4,5]])\n",
    "dummy5.reshape(5,5)"
   ]
  },
  {
   "cell_type": "code",
   "execution_count": 27,
   "id": "a0ef5d0d",
   "metadata": {},
   "outputs": [
    {
     "data": {
      "text/plain": [
       "array([[ 9,  1,  5,  6,  0],\n",
       "       [ 5,  5, 10,  9, 11],\n",
       "       [ 1, 12,  3,  7, 10],\n",
       "       [ 8,  9,  6,  3,  1],\n",
       "       [ 1,  2,  3,  4,  5]])"
      ]
     },
     "execution_count": 27,
     "metadata": {},
     "output_type": "execute_result"
    }
   ],
   "source": [
    "dummy3"
   ]
  },
  {
   "cell_type": "code",
   "execution_count": 31,
   "id": "cb89404a",
   "metadata": {},
   "outputs": [],
   "source": [
    "def minus(x):\n",
    "    x=x-500\n",
    "    return x"
   ]
  },
  {
   "cell_type": "code",
   "execution_count": 28,
   "id": "a1db7421",
   "metadata": {},
   "outputs": [],
   "source": [
    "dummy3[2,2]=500"
   ]
  },
  {
   "cell_type": "code",
   "execution_count": 36,
   "id": "259ddbdc",
   "metadata": {},
   "outputs": [],
   "source": [
    "dummy3[2,2]=minus(dummy3[2,2])\n"
   ]
  },
  {
   "cell_type": "code",
   "execution_count": 37,
   "id": "519a10eb",
   "metadata": {},
   "outputs": [
    {
     "data": {
      "text/plain": [
       "array([[    9,     1,     5,     6,     0],\n",
       "       [    5,     5,    10,     9,    11],\n",
       "       [    1,    12, -1000,     7,    10],\n",
       "       [    8,     9,     6,     3,     1],\n",
       "       [    1,     2,     3,     4,     5]])"
      ]
     },
     "execution_count": 37,
     "metadata": {},
     "output_type": "execute_result"
    }
   ],
   "source": [
    "dummy3"
   ]
  },
  {
   "cell_type": "code",
   "execution_count": 8,
   "id": "d01b1c21",
   "metadata": {},
   "outputs": [
    {
     "data": {
      "text/plain": [
       "array([[ 1.24612074, -1.15203687, -0.15523011,  0.09365858, -1.20029641],\n",
       "       [ 0.05933908, -0.19200614,  1.78514621,  1.4985373 ,  1.24475183],\n",
       "       [-1.12744258,  1.48804762, -0.93138063,  0.56195149,  1.02247472],\n",
       "       [ 0.94942533,  0.76802458,  0.23284516, -1.31122014, -0.97801929],\n",
       "       [-1.12744258, -0.91202919, -0.93138063, -0.84292723, -0.08891084]])"
      ]
     },
     "execution_count": 8,
     "metadata": {},
     "output_type": "execute_result"
    }
   ],
   "source": [
    "examp=StandardScaler().fit_transform(dummy4)\n",
    "examp"
   ]
  },
  {
   "cell_type": "code",
   "execution_count": 155,
   "id": "862be4bb",
   "metadata": {},
   "outputs": [
    {
     "data": {
      "text/plain": [
       "array([[-0.70919305,  0.        , -1.95550972, -0.51710036, -0.5       ],\n",
       "       [ 0.87528224,  0.        ,  0.15241424, -0.80959565, -0.5       ],\n",
       "       [ 0.1062131 ,  0.        ,  0.7914563 , -0.17794681, -0.5       ],\n",
       "       [-1.49309085,  0.        ,  0.59138142, -0.45464214,  2.        ],\n",
       "       [ 1.22078856,  0.        ,  0.42025775,  1.95928496, -0.5       ]])"
      ]
     },
     "execution_count": 155,
     "metadata": {},
     "output_type": "execute_result"
    }
   ],
   "source": [
    "examp"
   ]
  },
  {
   "cell_type": "code",
   "execution_count": 160,
   "id": "f8c549cd",
   "metadata": {},
   "outputs": [
    {
     "name": "stdout",
     "output_type": "stream",
     "text": [
      "[[ 1.24612074 -1.15203687 -0.15523011  0.09365858 -1.20029641]\n",
      " [ 0.05933908 -0.19200614  1.78514621  1.4985373   1.24475183]\n",
      " [-1.12744258  1.48804762 -0.93138063  0.56195149  1.02247472]\n",
      " [ 0.94942533  0.76802458  0.23284516 -1.31122014 -0.97801929]\n",
      " [-1.12744258 -0.91202919 -0.93138063 -0.84292723 -0.08891084]]\n",
      "[{'mean': 4.8, 'std': 3.370459909270543}, {'mean': 5.8, 'std': 4.166533331199932}, {'mean': 5.4, 'std': 2.5768197453450252}, {'mean': 5.8, 'std': 2.1354156504062622}, {'mean': 5.4, 'std': 4.498888751680797}]\n"
     ]
    }
   ],
   "source": [
    "X1,mean_std_X1=standardize_data2(dummy3)\n",
    "print(X1)\n",
    "print(mean_std_X1)"
   ]
  },
  {
   "cell_type": "code",
   "execution_count": 70,
   "id": "170904fa",
   "metadata": {},
   "outputs": [
    {
     "name": "stdout",
     "output_type": "stream",
     "text": [
      "0\n",
      "1\n",
      "2\n",
      "3\n",
      "4\n"
     ]
    },
    {
     "data": {
      "text/plain": [
       "array([[ 1, -1,  0,  0, -1],\n",
       "       [ 0,  0,  1,  1,  1],\n",
       "       [-1,  1,  0,  0,  1],\n",
       "       [ 0,  0,  0, -1,  0],\n",
       "       [-1,  0,  0,  0,  0]])"
      ]
     },
     "execution_count": 70,
     "metadata": {},
     "output_type": "execute_result"
    }
   ],
   "source": [
    "X1,mean_std_X1=standardize_data(dummy3)\n",
    "X1"
   ]
  },
  {
   "cell_type": "code",
   "execution_count": 165,
   "id": "e6df62d5",
   "metadata": {},
   "outputs": [
    {
     "name": "stdout",
     "output_type": "stream",
     "text": [
      "[[ 1.24612074 -1.15203687 -0.15523011  0.09365858 -1.20029641]\n",
      " [ 0.05933908 -0.19200614  1.78514621  1.4985373   1.24475183]\n",
      " [-1.12744258  1.48804762 -0.93138063  0.56195149  1.02247472]\n",
      " [ 0.94942533  0.76802458  0.23284516 -1.31122014 -0.97801929]\n",
      " [-1.12744258 -0.91202919 -0.93138063 -0.84292723 -0.08891084]]\n"
     ]
    }
   ],
   "source": [
    "X2=standardize_signal2(dummy5,mean_std_X1)\n",
    "print(X2)"
   ]
  },
  {
   "cell_type": "code",
   "execution_count": 156,
   "id": "b8d789dc",
   "metadata": {},
   "outputs": [
    {
     "name": "stdout",
     "output_type": "stream",
     "text": [
      "[ 1.24612074  0.05933908 -1.12744258  0.94942533 -1.12744258] {'mean': 4.8, 'std': 3.370459909270543}\n"
     ]
    }
   ],
   "source": [
    "res,mean_stds=standardize_feat(dummy4[:,0])\n",
    "print(res,mean_stds)"
   ]
  },
  {
   "cell_type": "code",
   "execution_count": 38,
   "id": "a64159c2",
   "metadata": {},
   "outputs": [
    {
     "name": "stdout",
     "output_type": "stream",
     "text": [
      "0\n",
      "pt\n",
      "1\n",
      "eta\n",
      "2\n",
      "cos\n",
      "3\n",
      "sin\n"
     ]
    }
   ],
   "source": [
    " keys=[\"pt\",\"eta\",\"cos\",\"sin\"]\n",
    "for feat,key in enumerate(keys):\n",
    "    print(feat)\n",
    "    print(key)"
   ]
  },
  {
   "cell_type": "code",
   "execution_count": 4,
   "id": "dc2d71c5",
   "metadata": {},
   "outputs": [],
   "source": [
    "def standardize_data4(X,feat_stds_mean):\n",
    "    keys=[\"pt\",\"eta\",\"cos\",\"sin\"]\n",
    "    for i in range(len(X)): #loop through all events\n",
    "    \n",
    "        for j in range(19):#EVENT 19 cardinality\n",
    "            j_object=X[i][j][4]#check for object type shape(4e6,19,5)\n",
    "            if j_object==1:\n",
    "                for feat,key in enumerate(keys):#take needed value according to key\n",
    "                    if feat ==1:#Met eta always zero otherwise nan will be the result\n",
    "                        continue #X[i][j][feat]=0\n",
    "                    else:\n",
    "                        X[i][j][feat]=standardize_sigfeat(X[i][j][feat],feat_stds_mean[\"met\"][keys[feat]])\n",
    "                    #feat= int key =\"key\"#add value \n",
    "            if j_object==2:\n",
    "                for feat,key in enumerate(keys):\n",
    "                    X[i][j][feat]=standardize_sigfeat(X[i][j][feat],feat_stds_mean[\"elekt\"][keys[feat]])\n",
    "            if j_object==3:\n",
    "                for feat,key in enumerate(keys):\n",
    "                    X[i][j][feat]=standardize_sigfeat(X[i][j][feat],feat_stds_mean[\"muon\"][keys[feat]])\n",
    "            if j_object==4:\n",
    "                for feat,key in enumerate(keys):\n",
    "                    X[i][j][feat]=standardize_sigfeat(X[i][j][feat],feat_stds_mean[\"jetid\"][keys[feat]])\n",
    "    return X \n",
    "                        \n",
    "def standardize_sigfeat(feat,feat_stds_mean):\n",
    "    X_mean=feat_stds_mean[\"mean\"]\n",
    "    X_std=feat_stds_mean[\"std\"]\n",
    "    standardized= standardize_value(feat,X_mean,X_std)\n",
    "    return np.asarray(standardized)\n",
    "\n",
    "def standardize_value(x,X_mean,X_std):\n",
    "    stnd=(x-X_mean)/X_std\n",
    "    return stnd\n",
    " "
   ]
  },
  {
   "cell_type": "code",
   "execution_count": 132,
   "id": "602129b8",
   "metadata": {},
   "outputs": [],
   "source": [
    "def standardize_signal2(X,feat_stds_mean):\n",
    "    for i in range(X.shape[1]):\n",
    "        #print(i)\n",
    "        if i ==0:\n",
    "            column=X[:,i]\n",
    "            column_values=standardize_sigfeat(column,feat_stds_mean[i])\n",
    "            data=np.asarray(column_values)\n",
    "            data=data.reshape((X.shape[0],1))\n",
    "            continue\n",
    "        if np.std(X[:,i])== 0:\n",
    "            zeros=np.zeros((X.shape[0],1))\n",
    "            data=np.concatenate((data,zeros),axis=1)\n",
    "            continue\n",
    "        else:\n",
    "            #print(\"käin siin\")\n",
    "            column=X[:,i]\n",
    "            #print(column)\n",
    "            column_values=standardize_sigfeat(column,feat_stds_mean[i])\n",
    "            #print(column_values)\n",
    "            column_values=column_values.reshape((X.shape[0],1))\n",
    "            #print(data)\n",
    "            data=np.concatenate((data,column_values),axis=1)\n",
    "            #print(data)\n",
    "    return data\n",
    "\n",
    "def standardize_sigfeat(feat,feat_stds_mean):\n",
    "    X_mean=feat_stds_mean[\"mean\"]\n",
    "    X_std=feat_stds_mean[\"std\"]\n",
    "    standardized= standardize_value(feat,X_mean,X_std)\n",
    "    return np.asarray(standardized)\n",
    "\n",
    "def standardize_value(x,X_mean,X_std):\n",
    "    stnd=(x-X_mean)/X_std\n",
    "    return stnd\n"
   ]
  },
  {
   "cell_type": "code",
   "execution_count": 107,
   "id": "b5b1eae2",
   "metadata": {},
   "outputs": [
    {
     "data": {
      "text/plain": [
       "{'met': {'pt': {'mean': 41.4562931251135, 'std': 21.17293805870149},\n",
       "  'eta': {'mean': 0.0, 'std': 0.0},\n",
       "  'cos': {'mean': 6.393118361991567e-05, 'std': 0.7073504610195422},\n",
       "  'sin': {'mean': 0.00028192700904651165, 'std': 0.7068629582354745}},\n",
       " 'elekt': {'pt': {'mean': 37.54579381574212, 'std': 14.154425675444342},\n",
       "  'eta': {'mean': -0.0003464465965275722, 'std': 1.6391985005870908},\n",
       "  'cos': {'mean': -0.0007123569063861435, 'std': 0.7071327228835375},\n",
       "  'sin': {'mean': 0.00039937824792517945, 'std': 0.7070803669116882}},\n",
       " 'muon': {'pt': {'mean': 37.54423228260537, 'std': 14.310914876105468},\n",
       "  'eta': {'mean': -0.00026549400152860674, 'std': 1.213826845838711},\n",
       "  'cos': {'mean': 4.533641329742322e-05, 'std': 0.7072035329014236},\n",
       "  'sin': {'mean': -5.054241930759607e-05, 'std': 0.7070100129713994}},\n",
       " 'jetid': {'pt': {'mean': 33.04715481975824, 'std': 30.53014991233841},\n",
       "  'eta': {'mean': -0.004052303655904774, 'std': 1.7173831134830846},\n",
       "  'cos': {'mean': 0.0002957384667361168, 'std': 0.7073086259048335},\n",
       "  'sin': {'mean': -0.0006888066410872079, 'std': 0.7069044813868332}}}"
      ]
     },
     "execution_count": 107,
     "metadata": {},
     "output_type": "execute_result"
    }
   ],
   "source": [
    "mean_stds"
   ]
  },
  {
   "cell_type": "code",
   "execution_count": 13,
   "id": "ef726034",
   "metadata": {},
   "outputs": [
    {
     "data": {
      "text/plain": [
       "{'mean': 41.4562931251135, 'std': 21.17293805870149}"
      ]
     },
     "execution_count": 13,
     "metadata": {},
     "output_type": "execute_result"
    }
   ],
   "source": [
    "mean_stds[\"met\"][\"pt\"]"
   ]
  },
  {
   "cell_type": "code",
   "execution_count": 6,
   "id": "e097c616",
   "metadata": {},
   "outputs": [
    {
     "name": "stdout",
     "output_type": "stream",
     "text": [
      "1\n",
      "2\n",
      "3\n"
     ]
    }
   ],
   "source": [
    "#workflow oleks\n",
    "test_data2=event_w_trig.reshape(len(event_w_trig),76)\n",
    "test_data2.shape\n",
    "print(\"1\")\n",
    "# Et leida stds means vaja sisse anda eventid objekti type\n",
    "event_obj_type=event_obj_type.reshape(len(full_data),19,1)\n",
    "event_trig_type=np.concatenate((event_w_trig[:],event_obj_type[:]),axis=2)\n",
    "event_trig_type.shape\n",
    "print(\"2\")\n",
    "\n",
    "mean_stds=find_stds_means_bkg(event_trig_type)\n",
    "print(\"3\")\n",
    "\n",
    "results=standardize_data3(test_data2,mean_stds)"
   ]
  },
  {
   "cell_type": "code",
   "execution_count": 13,
   "id": "f7275f69",
   "metadata": {},
   "outputs": [],
   "source": [
    "back2_194=results.reshape(len(event_w_trig),19,4)\n",
    "input2=np.concatenate((back2_194,event_obj_type),axis=2)\n",
    "mean_stds2=find_stds_means_bkg(input2)"
   ]
  },
  {
   "cell_type": "code",
   "execution_count": 14,
   "id": "4a3bdf46",
   "metadata": {},
   "outputs": [
    {
     "data": {
      "text/plain": [
       "{'met': {'pt': {'mean': 3.855937791286124e-17, 'std': 1.0000000000000002},\n",
       "  'eta': {'mean': 0.0, 'std': 0.0},\n",
       "  'cos': {'mean': 1.7772450178199507e-18, 'std': 0.9999999999999997},\n",
       "  'sin': {'mean': 1.2700951401711791e-17, 'std': 1.0}},\n",
       " 'elekt': {'pt': {'mean': 1.6150414440918867e-16, 'std': 0.9999999999999996},\n",
       "  'eta': {'mean': 1.2310997386555185e-17, 'std': 0.9999999999999992},\n",
       "  'cos': {'mean': 1.5386306012062626e-17, 'std': 0.9999999999999996},\n",
       "  'sin': {'mean': 4.199667493351696e-17, 'std': 0.9999999999999996}},\n",
       " 'muon': {'pt': {'mean': 0.08079699693697699, 'std': 1.9174777011147983},\n",
       "  'eta': {'mean': -2.623486905040143, 'std': 0.0848182562992813},\n",
       "  'cos': {'mean': 0.0002560747571959319, 'std': 0.582623077851579},\n",
       "  'sin': {'mean': -0.00013557459506974414, 'std': 0.9997263589320177}},\n",
       " 'jetid': {'pt': {'mean': 46.744256966198904, 'std': 43.182785463937726},\n",
       "  'eta': {'mean': -1.0825759853231782, 'std': 0.056252036705166125},\n",
       "  'cos': {'mean': 0.002531783437547894, 'std': 0.4118525565738888},\n",
       "  'sin': {'mean': -0.0013919597072124645, 'std': 0.9994286164437999}}}"
      ]
     },
     "execution_count": 14,
     "metadata": {},
     "output_type": "execute_result"
    }
   ],
   "source": [
    "mean_stds2"
   ]
  },
  {
   "cell_type": "code",
   "execution_count": null,
   "id": "f31a23cc",
   "metadata": {},
   "outputs": [],
   "source": []
  },
  {
   "cell_type": "code",
   "execution_count": 12,
   "id": "f0ad0e02",
   "metadata": {},
   "outputs": [
    {
     "data": {
      "text/plain": [
       "(4000000, 76)"
      ]
     },
     "execution_count": 12,
     "metadata": {},
     "output_type": "execute_result"
    }
   ],
   "source": [
    "test_data2=event_w_trig.reshape(len(event_w_trig),76)\n",
    "test_data2.shape"
   ]
  },
  {
   "cell_type": "code",
   "execution_count": 51,
   "id": "209ffed4",
   "metadata": {},
   "outputs": [],
   "source": [
    "results=standardize_data3(test_data2,mean_stds)"
   ]
  },
  {
   "cell_type": "code",
   "execution_count": 13,
   "id": "f9415b76",
   "metadata": {},
   "outputs": [],
   "source": [
    "examp=StandardScaler().fit_transform(test_data2)"
   ]
  },
  {
   "cell_type": "code",
   "execution_count": 14,
   "id": "048721c0",
   "metadata": {},
   "outputs": [
    {
     "data": {
      "text/plain": [
       "array([-0.70097354,  1.36717981, -0.60118649, -1.02831456, -0.34984688])"
      ]
     },
     "execution_count": 14,
     "metadata": {},
     "output_type": "execute_result"
    }
   ],
   "source": [
    "examp[:5,2]"
   ]
  },
  {
   "cell_type": "code",
   "execution_count": 15,
   "id": "44096bd4",
   "metadata": {},
   "outputs": [
    {
     "data": {
      "text/plain": [
       "array([-0.70097354,  1.36717981, -0.60118649, -1.02831456, -0.34984688])"
      ]
     },
     "execution_count": 15,
     "metadata": {},
     "output_type": "execute_result"
    }
   ],
   "source": [
    "results[:5,2]"
   ]
  },
  {
   "cell_type": "code",
   "execution_count": 5,
   "id": "20d5de02",
   "metadata": {},
   "outputs": [],
   "source": [
    "#standardize signal\n",
    "def standardize_data3(X,mean_stds):\n",
    "    keys=[\"pt\",\"eta\",\"cos\",\"sin\"]#keys for feat\n",
    "    #create new standardized dataframe with met pt standardized\n",
    "    column=X[:,0]\n",
    "    column_values=standardize_sigfeat(column,mean_stds[\"met\"][\"pt\"])\n",
    "    data=np.asarray(column_values)\n",
    "    data=data.reshape((X.shape[0],1))\n",
    "    \n",
    "    #since second column is met eta it is just zeros always\n",
    "    #I just add zeros\n",
    "    zeros=np.zeros((X.shape[0],1))\n",
    "    data=np.concatenate((data,zeros),axis=1)\n",
    "    #met cos and phi\n",
    "    for i in range(2,4):\n",
    "        column=X[:,i]\n",
    "        #print(column)\n",
    "        column_values=standardize_sigfeat(column,mean_stds[\"met\"][keys[i]])\n",
    "        #print(column_values)\n",
    "        column_values=column_values.reshape((X.shape[0],1))\n",
    "        #print(data)\n",
    "        data=np.concatenate((data,column_values),axis=1)\n",
    "    #Electron columns \n",
    "    key = 0\n",
    "    for i in range(4,21):\n",
    "        #print(key)\n",
    "        if key == 4:\n",
    "            key=0\n",
    "        column=X[:,i]\n",
    "        column_values=standardize_sigfeat(column,mean_stds[\"elekt\"][keys[key]])\n",
    "        column_values=column_values.reshape((X.shape[0],1))\n",
    "        data=np.concatenate((data,column_values),axis=1)\n",
    "        key +=1\n",
    "    key = 0\n",
    "    for i in range(21,37):\n",
    "        if key == 4:\n",
    "            key=0\n",
    "        column=X[:,i]\n",
    "        column_values=standardize_sigfeat(column,mean_stds[\"muon\"][keys[key]])\n",
    "        column_values=column_values.reshape((X.shape[0],1))\n",
    "        data=np.concatenate((data,column_values),axis=1)\n",
    "        key +=1\n",
    "    key = 0\n",
    "    for i in range(37,76):\n",
    "        if key == 4:\n",
    "            key=0\n",
    "        column=X[:,i]\n",
    "        column_values=standardize_sigfeat(column,mean_stds[\"jetid\"][keys[key]])\n",
    "        column_values=column_values.reshape((X.shape[0],1))\n",
    "        data=np.concatenate((data,column_values),axis=1)\n",
    "        key +=1\n",
    "        \n",
    "    return data \n",
    "    \n",
    "def standardize_sigfeat(feat,feat_stds_mean):\n",
    "    X_mean=feat_stds_mean[\"mean\"]\n",
    "    X_std=feat_stds_mean[\"std\"]\n",
    "    standardized= standardize_value(feat,X_mean,X_std)\n",
    "    return np.asarray(standardized)\n",
    "\n",
    "def standardize_value(x,X_mean,X_std):\n",
    "    stnd=(x-X_mean)/X_std\n",
    "    return stnd"
   ]
  },
  {
   "cell_type": "code",
   "execution_count": 121,
   "id": "10c30055",
   "metadata": {},
   "outputs": [],
   "source": [
    "def standardize_data2(X):\n",
    "    feat_stdsmeans=[]\n",
    "    for i in range(X.shape[1]):\n",
    "        #print(i)\n",
    "        if i ==0:\n",
    "            column=X[:,i]\n",
    "            column_values,mean_std=standardize_feat(column)\n",
    "            data=np.asarray(column_values)\n",
    "            data=data.reshape((X.shape[0],1))\n",
    "            feat_stdsmeans.append(mean_std)\n",
    "            continue\n",
    "        if np.std(X[:,i])== 0:\n",
    "            zeros=np.zeros((X.shape[0],1))\n",
    "            data=np.concatenate((data,zeros),axis=1)\n",
    "            feat_stdsmeans.append({\"mean\" : 0 , \"std\" : 0})\n",
    "            continue\n",
    "        else:\n",
    "            #print(\"käin siin\")\n",
    "            column=X[:,i]\n",
    "            #print(column)\n",
    "            column_values,mean_std=standardize_feat(column)\n",
    "            #print(column_values)\n",
    "            column_values=column_values.reshape((X.shape[0],1))\n",
    "            #print(data)\n",
    "            data=np.concatenate((data,column_values),axis=1)\n",
    "            #print(data)\n",
    "            feat_stdsmeans.append(mean_std)\n",
    "    return data, feat_stdsmeans\n",
    "\n",
    "def standardize_feat(feat):\n",
    "    X_mean=np.mean(feat)\n",
    "    X_std=np.std(feat)\n",
    "    standardized= standardize_value(feat,X_mean,X_std)\n",
    "    mean_std={\"mean\" : X_mean , \"std\" : X_std}\n",
    "    return np.array(standardized),mean_std\n",
    "\n",
    "def standardize_value(x,X_mean,X_std):\n",
    "    stnd=(x-X_mean)/X_std\n",
    "    return stnd"
   ]
  },
  {
   "cell_type": "code",
   "execution_count": 16,
   "id": "7fba5e05",
   "metadata": {},
   "outputs": [],
   "source": [
    "def normalize_feat(X):\n",
    "    X_min=min(X)\n",
    "    X_max=max(X)\n",
    "    X_range=X_max-X_min\n",
    "    normed_X=normalize(X[:],X_range,X_min)\n",
    "    return normed_X\n",
    "    \n",
    "def normalize(x,X_range,X_min):\n",
    "    normed=(x - X_min) / X_range\n",
    "    return normed"
   ]
  },
  {
   "cell_type": "code",
   "execution_count": 5,
   "id": "573e11a8",
   "metadata": {},
   "outputs": [],
   "source": [
    "import argparse\n",
    "import h5py\n",
    "from sklearn.model_selection import train_test_split\n",
    "import numpy as np\n",
    "import tensorflow as tf\n",
    "import tensorflow.keras as keras\n",
    "from tensorflow.keras.utils import to_categorical\n",
    "\n",
    "def create_datasets_dense_onehot(bkg_file, output_bkg_name, signals_files, output_signal_names, events=None\n",
    "                                 , test_size=0.2, val_size=0.2, input_shape=171):\n",
    "\n",
    "    # read BACKGROUND data\n",
    "    with h5py.File(bkg_file, 'r') as file:\n",
    "        full_data = file['Particles'][:,:,:]\n",
    "        np.random.seed(42)\n",
    "        np.random.shuffle(full_data)\n",
    "        if events: full_data = full_data[:events,:,:]\n",
    "    ##########################Adding OH,cos(phi),sin(phi)############################################        \n",
    "    event_obj_type=full_data[:,:,3]#Object types from all events\n",
    "    events_phis=full_data[:,:,2]#extract phis\n",
    "    event_obj_oh=to_categorical(event_obj_type,5)#All the object types turned to one hot\n",
    "    event_wo_type_phi=full_data[:,:,:2]#original events without type and phi\n",
    "    cos_sin=np.stack((np.cos(events_phis),np.sin(events_phis)),axis=2)#stack cos and sine oh phi\n",
    "    event_w_trig=np.concatenate((event_wo_type_phi[:],cos_sin[:]),axis=2)#add trig\n",
    "    #Find stds and means from background\n",
    "    event_obj_type=event_obj_type.reshape(len(full_data),19,1)\n",
    "    event_trig_type=np.concatenate((event_w_trig[:],event_obj_type[:]),axis=2)\n",
    "    mean_stds=find_stds_means_bkg(event_trig_type)\n",
    "    print(\"bkg enne standard:\",event_trig_type[0])\n",
    "    stnd_data=standardize_data4(event_trig_type,mean_stds)\n",
    "    print(\"bkg pärast standard:\",stnd_data[0])\n",
    "    stnd_data=stnd_data[:,:,:4]\n",
    "    \n",
    "    #event_w_trig,mean_stds_train=standardize_data(event_w_trig)\n",
    "    full_data=np.concatenate((stnd_data[:],event_obj_oh[:]),axis=2)#original data combined with OH v. and trig       \n",
    "    ##################################################################################################\n",
    "    \n",
    "    \n",
    "    ####################3ONLY OH VECTOR ADDING#########################################################\n",
    "    #event_obj_type=full_data[:,:,3]#Object types from all events\n",
    "    #event_obj_oh=to_categorical(event_obj_type,5)#All the object types turned to one hot\n",
    "    #event_wo_type=full_data[:,:,:3]#original events without type\n",
    "    #full_data=np.concatenate((event_wo_type[:],event_obj_oh[:]),axis=2)#original data combined with one hot vectors\n",
    "    ###################################################################################################\n",
    "\n",
    "    # define training, test and validation datasets\n",
    "    X_train, X_test = train_test_split(full_data, test_size=test_size, random_state=42, shuffle=True)\n",
    "    X_train, X_val = train_test_split(X_train, test_size=val_size, random_state=42, shuffle=True)\n",
    "\n",
    "    del full_data\n",
    "    \n",
    "    # flatten the data for model input\n",
    "    X_train = X_train.reshape(X_train.shape[0], input_shape)\n",
    "    X_test = X_test.reshape(X_test.shape[0], input_shape)\n",
    "    X_val = X_val.reshape(X_val.shape[0], input_shape)\n",
    "\n",
    "\n",
    "    with h5py.File(output_bkg_name + '_stnd_dataset.h5', 'w') as h5f:\n",
    "        print(\"saving\")\n",
    "        h5f.create_dataset('X_train', data = X_train)\n",
    "        h5f.create_dataset('X_test', data = X_test)\n",
    "        h5f.create_dataset('X_val', data = X_val)  \n",
    "        \n",
    "    print(\"bkg done\")  \n",
    "    if signals_files:\n",
    "        # read SIGNAL data\n",
    "        for i, signal_file in enumerate(signals_files):\n",
    "            print(\"teen if\")\n",
    "            f = h5py.File(signal_file,'r')\n",
    "            signal_data = f['Particles'][:,:,:]\n",
    "            \n",
    "            \n",
    "            event_obj_type=signal_data[:,:,3]#Object types from all events\n",
    "            events_phis=signal_data[:,:,2]#extract phis\n",
    "            event_obj_oh=to_categorical(event_obj_type,5)#All the object types turned to one hot\n",
    "            event_wo_type_phi=signal_data[:,:,:2]#original events without type and phi\n",
    "            cos_sin=np.stack((np.cos(events_phis),np.sin(events_phis)),axis=2)#stack cos and sine oh phi\n",
    "            event_w_trig=np.concatenate((event_wo_type_phi[:],cos_sin[:]),axis=2)#add trig\n",
    "            #standardize data\n",
    "            #Find stds and means from background\n",
    "            event_obj_type=event_obj_type.reshape(len(event_w_trig),19,1)\n",
    "            event_trig_type=np.concatenate((event_w_trig[:],event_obj_type[:]),axis=2)\n",
    "            stnd_data=standardize_data4(event_trig_type,mean_stds)\n",
    "            stnd_data=stnd_data[:,:,:4]\n",
    "            signal_data=np.concatenate((stnd_data[:],event_obj_oh[:]),axis=2)#original data combined with OH v. and trig \n",
    "            \n",
    "            \n",
    "            \n",
    "            \n",
    "            ##same process as before turning types to onehot vectors#######################3\n",
    "            #event_obj_type=signal_data[:,:,3]#Object types from all events\n",
    "            #event_obj_oh=to_categorical(event_obj_type,5)#All the object types turned to one hot\n",
    "            #event_wo_type=signal_data[:,:,:3]#original events without type\n",
    "            #signal_data=np.concatenate((event_wo_type[:],event_obj_oh[:]),axis=2)#original data combined with one hot vectors\n",
    "            ####################################################33#####\n",
    "            signal_data = signal_data.reshape(signal_data.shape[0],input_shape)\n",
    "            with h5py.File(output_signal_names[i] + '_stnd_dataset.h5', 'w') as h5f2:\n",
    "                h5f2.create_dataset('Data', data = signal_data)        \n",
    "            print(\"signal done\") \n",
    "    return                                                                                "
   ]
  },
  {
   "cell_type": "code",
   "execution_count": null,
   "id": "3536dcc3",
   "metadata": {},
   "outputs": [],
   "source": []
  },
  {
   "cell_type": "code",
   "execution_count": 17,
   "id": "307f36d3",
   "metadata": {},
   "outputs": [
    {
     "ename": "SyntaxError",
     "evalue": "invalid syntax (<ipython-input-17-7dde6d5ed219>, line 1)",
     "output_type": "error",
     "traceback": [
      "\u001b[0;36m  Input \u001b[0;32mIn [17]\u001b[0;36m\u001b[0m\n\u001b[0;31m    sspython3 create_datasets_OH.py\u001b[0m\n\u001b[0m              ^\u001b[0m\n\u001b[0;31mSyntaxError\u001b[0m\u001b[0;31m:\u001b[0m invalid syntax\n"
     ]
    }
   ],
   "source": [
    "sspython3 create_datasets_OH.py \n",
    "--bkg_file '/home/aadi/praktika/ADC/files/background_for_training.h5' \n",
    "--output_bkg_name 'BKG_OH_TRIG'\n",
    "--signals_files '/home/aadi/praktika/ADC/files/Ato4l_lepFilter_13TeV.h5' \n",
    "--output_signal_names 'Ato4l_lepFilter_13TeV_OH' \n",
    "--events=1000000\n",
    "\n"
   ]
  },
  {
   "cell_type": "code",
   "execution_count": 6,
   "id": "0a9da5a3",
   "metadata": {},
   "outputs": [],
   "source": [
    "signal_files = ['/home/aadi/praktika/ADC/files/Ato4l_lepFilter_13TeV.h5',\n",
    "            '/home/aadi/praktika/ADC/files/hChToTauNu_13TeV_PU20.h5',\n",
    "            '/home/aadi/praktika/ADC/files/hToTauTau_13TeV_PU20.h5',\n",
    "            '/home/aadi/praktika/ADC/files/leptoquark_LOWMASS_lepFilter_13TeV.h5',\n",
    "            '/home/aadi/praktika/ADC/files/background_for_training.h5']\n"
   ]
  },
  {
   "cell_type": "code",
   "execution_count": 7,
   "id": "fb2b6c40",
   "metadata": {},
   "outputs": [],
   "source": [
    "signal_output=['./signals/oh_stnd/Ato4l_lepFilter_13TeV_input',\n",
    "                 './signals/oh_stnd/hChToTauNu_13TeV_PU20_input',\n",
    "                 './signals/oh_stnd/hToTauTau_13TeV_PU20_input',\n",
    "                 './signals/oh_stnd/leptoquark_LOWMASS_lepFilter_13TeV_input',\n",
    "                 './signals/oh_stnd/background_for_training_input']"
   ]
  },
  {
   "cell_type": "code",
   "execution_count": 8,
   "id": "2e9b5c3a",
   "metadata": {},
   "outputs": [],
   "source": [
    "bkg_file= '/home/aadi/praktika/ADC/files/background_for_training.h5' \n",
    "output_bkg_name= './signals/oh_stnd/BKG_OH'\n",
    "signals_files= signal_files \n",
    "output_signal_names= signal_output\n",
    "events=4000000"
   ]
  },
  {
   "cell_type": "code",
   "execution_count": 9,
   "id": "589ed0e8",
   "metadata": {},
   "outputs": [
    {
     "name": "stdout",
     "output_type": "stream",
     "text": [
      "bkg enne standard: [[40.35468292  0.         -0.49577002 -0.86845385  1.        ]\n",
      " [26.55731201  0.16413015  0.85202672  0.52349831  2.        ]\n",
      " [ 0.          0.          1.          0.          0.        ]\n",
      " [ 0.          0.          1.          0.          0.        ]\n",
      " [ 0.          0.          1.          0.          0.        ]\n",
      " [ 0.          0.          1.          0.          0.        ]\n",
      " [ 0.          0.          1.          0.          0.        ]\n",
      " [ 0.          0.          1.          0.          0.        ]\n",
      " [ 0.          0.          1.          0.          0.        ]\n",
      " [16.3829689  -2.38109255  0.79439291  0.60740423  4.        ]\n",
      " [ 0.          0.          1.          0.          0.        ]\n",
      " [ 0.          0.          1.          0.          0.        ]\n",
      " [ 0.          0.          1.          0.          0.        ]\n",
      " [ 0.          0.          1.          0.          0.        ]\n",
      " [ 0.          0.          1.          0.          0.        ]\n",
      " [ 0.          0.          1.          0.          0.        ]\n",
      " [ 0.          0.          1.          0.          0.        ]\n",
      " [ 0.          0.          1.          0.          0.        ]\n",
      " [ 0.          0.          1.          0.          0.        ]]\n",
      "bkg pärast standard: [[-0.05202916  0.         -0.70097354 -1.2290017   1.        ]\n",
      " [-0.77632834  0.10033965  1.20591092  0.73980123  2.        ]\n",
      " [ 0.          0.          1.          0.          0.        ]\n",
      " [ 0.          0.          1.          0.          0.        ]\n",
      " [ 0.          0.          1.          0.          0.        ]\n",
      " [ 0.          0.          1.          0.          0.        ]\n",
      " [ 0.          0.          1.          0.          0.        ]\n",
      " [ 0.          0.          1.          0.          0.        ]\n",
      " [ 0.          0.          1.          0.          0.        ]\n",
      " [-0.54582719 -1.38410598  1.12270252  0.86021952  4.        ]\n",
      " [ 0.          0.          1.          0.          0.        ]\n",
      " [ 0.          0.          1.          0.          0.        ]\n",
      " [ 0.          0.          1.          0.          0.        ]\n",
      " [ 0.          0.          1.          0.          0.        ]\n",
      " [ 0.          0.          1.          0.          0.        ]\n",
      " [ 0.          0.          1.          0.          0.        ]\n",
      " [ 0.          0.          1.          0.          0.        ]\n",
      " [ 0.          0.          1.          0.          0.        ]\n",
      " [ 0.          0.          1.          0.          0.        ]]\n",
      "saving\n",
      "bkg done\n",
      "teen if\n",
      "signal done\n",
      "teen if\n",
      "signal done\n",
      "teen if\n",
      "signal done\n",
      "teen if\n",
      "signal done\n",
      "teen if\n",
      "signal done\n"
     ]
    }
   ],
   "source": [
    "create_datasets_dense_onehot(bkg_file, output_bkg_name, signals_files, output_signal_names, events=None, test_size=0.2, val_size=0.2, input_shape=171)"
   ]
  },
  {
   "cell_type": "code",
   "execution_count": 17,
   "id": "3aed2d1c",
   "metadata": {},
   "outputs": [],
   "source": [
    "#look at data\n",
    "def read_bkg_and_signals(bkg_filename,signal_in):\n",
    "    #Outputs training,test,validation and signal_data data\n",
    "    #From assigned source/path\n",
    "    # add correct path to signal files\n",
    "    signals_file = [signal_in+'Ato4l_lepFilter_13TeV_input_stnd_dataset.h5',\n",
    "                signal_in+'hChToTauNu_13TeV_PU20_input_stnd_dataset.h5',\n",
    "                signal_in+'hToTauTau_13TeV_PU20_input_stnd_dataset.h5',\n",
    "                signal_in+'leptoquark_LOWMASS_lepFilter_13TeV_input_stnd_dataset.h5'] \n",
    "    #signals_file = [signal_in+'Ato4l_lepFilter_13TeV_input_OH_trig_OH_dataset.h5',\n",
    "    #            signal_in+'hChToTauNu_13TeV_PU20_input_OH_trig_OH_dataset.h5',\n",
    "    #            signal_in+'hToTauTau_13TeV_PU20_input_OH_trig_OH_dataset.h5',\n",
    "    #            signal_in+'leptoquark_LOWMASS_lepFilter_13TeV_input_OH_trig_OH_dataset.h5'] \n",
    "    # add correct signal labels\n",
    "    signal_labels = ['Ato4l_lepFilter_13TeV_dataset',\n",
    "                     'hChToTauNu_13TeV_PU20_dataset',\n",
    "                     'hToTauTau_13TeV_PU20_dataset',\n",
    "                     'leptoquark_LOWMASS_lepFilter_13TeV_dataset']    \n",
    "    with h5py.File(bkg_filename, 'r') as file:\n",
    "        X_train = np.array(file['X_train'])\n",
    "        X_test = np.array(file['X_test'])\n",
    "        X_val = np.array(file['X_val'])\n",
    "    signal_data = []\n",
    "    for i, label in enumerate(signal_labels):\n",
    "        with h5py.File(signals_file[i], 'r') as file:\n",
    "            test_data = np.array(file['Data'])\n",
    "        signal_data.append(test_data)\n",
    "    \n",
    "    return X_train,X_test,X_val,signal_data,signal_labels\n"
   ]
  },
  {
   "cell_type": "code",
   "execution_count": 18,
   "id": "2b3e172b",
   "metadata": {},
   "outputs": [],
   "source": [
    "import h5py\n",
    "signal_in='./signals/oh_stnd/'\n",
    "#signal_in='./signals/oh_trig/'\n",
    "bkg_filename = './signals/oh_stnd/BKG_OH_stnd_dataset.h5'"
   ]
  },
  {
   "cell_type": "code",
   "execution_count": 19,
   "id": "b3cab9dc",
   "metadata": {},
   "outputs": [],
   "source": [
    "X_train,X_test,X_val,signal_data,signal_labels=read_bkg_and_signals(bkg_filename,signal_in)"
   ]
  },
  {
   "cell_type": "code",
   "execution_count": 23,
   "id": "9bb4804a",
   "metadata": {},
   "outputs": [
    {
     "data": {
      "text/plain": [
       "array([-0.26962213,  0.        , -1.31043853,  0.53063652,  0.        ,\n",
       "        1.        ,  0.        ,  0.        ,  0.        ,  0.        ,\n",
       "        0.        ,  1.        ,  0.        ,  1.        ,  0.        ,\n",
       "        0.        ,  0.        ,  0.        ,  0.        ,  0.        ,\n",
       "        1.        ,  0.        ,  1.        ,  0.        ,  0.        ,\n",
       "        0.        ,  0.        ,  0.        ,  0.        ,  1.        ,\n",
       "        0.        ,  1.        ,  0.        ,  0.        ,  0.        ,\n",
       "        0.        ,  0.        ,  0.        ,  1.        ,  0.        ,\n",
       "        1.        ,  0.        ,  0.        ,  0.        ,  0.        ,\n",
       "       -0.82092268, -0.69719279, -0.94158495,  1.05534428,  0.        ,\n",
       "        0.        ,  0.        ,  1.        ,  0.        , -1.22534057,\n",
       "       -0.62423862, -1.17419873, -0.78809132,  0.        ,  0.        ,\n",
       "        0.        ,  1.        ,  0.        , -1.69232429, -0.93116049,\n",
       "       -1.29936696, -0.55799242,  0.        ,  0.        ,  0.        ,\n",
       "        1.        ,  0.        ,  0.        ,  0.        ,  1.        ,\n",
       "        0.        ,  1.        ,  0.        ,  0.        ,  0.        ,\n",
       "        0.        ,  1.00175278, -1.13031799,  1.33311705, -0.46891376,\n",
       "        0.        ,  0.        ,  0.        ,  0.        ,  1.        ,\n",
       "        0.61455416, -1.23899768,  1.39865732,  0.20467518,  0.        ,\n",
       "        0.        ,  0.        ,  0.        ,  1.        ,  0.03138515,\n",
       "       -0.44560691, -0.94046038,  1.0575986 ,  0.        ,  0.        ,\n",
       "        0.        ,  0.        ,  1.        , -0.34796845, -0.43704009,\n",
       "       -1.18464196, -0.77178351,  0.        ,  0.        ,  0.        ,\n",
       "        0.        ,  1.        ,  0.        ,  0.        ,  1.        ,\n",
       "        0.        ,  1.        ,  0.        ,  0.        ,  0.        ,\n",
       "        0.        ,  0.        ,  0.        ,  1.        ,  0.        ,\n",
       "        1.        ,  0.        ,  0.        ,  0.        ,  0.        ,\n",
       "        0.        ,  0.        ,  1.        ,  0.        ,  1.        ,\n",
       "        0.        ,  0.        ,  0.        ,  0.        ,  0.        ,\n",
       "        0.        ,  1.        ,  0.        ,  1.        ,  0.        ,\n",
       "        0.        ,  0.        ,  0.        ,  0.        ,  0.        ,\n",
       "        1.        ,  0.        ,  1.        ,  0.        ,  0.        ,\n",
       "        0.        ,  0.        ,  0.        ,  0.        ,  1.        ,\n",
       "        0.        ,  1.        ,  0.        ,  0.        ,  0.        ,\n",
       "        0.        ])"
      ]
     },
     "execution_count": 23,
     "metadata": {},
     "output_type": "execute_result"
    }
   ],
   "source": [
    "signal_data[3][2]"
   ]
  },
  {
   "cell_type": "code",
   "execution_count": null,
   "id": "106c1f81",
   "metadata": {},
   "outputs": [],
   "source": []
  }
 ],
 "metadata": {
  "kernelspec": {
   "display_name": "Python 3",
   "language": "python",
   "name": "python3"
  },
  "language_info": {
   "codemirror_mode": {
    "name": "ipython",
    "version": 3
   },
   "file_extension": ".py",
   "mimetype": "text/x-python",
   "name": "python",
   "nbconvert_exporter": "python",
   "pygments_lexer": "ipython3",
   "version": "3.8.10"
  }
 },
 "nbformat": 4,
 "nbformat_minor": 5
}
